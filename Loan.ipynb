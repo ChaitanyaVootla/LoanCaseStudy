{
 "cells": [
  {
   "attachments": {},
   "cell_type": "markdown",
   "metadata": {},
   "source": [
    "# Initialisation & Setup"
   ]
  },
  {
   "cell_type": "code",
   "execution_count": null,
   "metadata": {},
   "outputs": [],
   "source": [
    "# Importing the necessary modules\n",
    "import numpy as np\n",
    "import pandas as pd\n",
    "import matplotlib.pyplot as plt\n",
    "import seaborn as sns\n",
    "import plotly.express as px\n",
    "\n",
    "\n",
    "# Using Seaborn's aesthetic theme\n",
    "sns.set_theme()"
   ]
  },
  {
   "attachments": {},
   "cell_type": "markdown",
   "metadata": {},
   "source": [
    "# Loading Data into Data frame"
   ]
  },
  {
   "cell_type": "code",
   "execution_count": null,
   "metadata": {},
   "outputs": [
    {
     "name": "stdout",
     "output_type": "stream",
     "text": [
      "Number of rows:  39717\n",
      "Number of Columns:  111\n"
     ]
    },
    {
     "data": {
      "text/html": [
       "<div>\n",
       "<style scoped>\n",
       "    .dataframe tbody tr th:only-of-type {\n",
       "        vertical-align: middle;\n",
       "    }\n",
       "\n",
       "    .dataframe tbody tr th {\n",
       "        vertical-align: top;\n",
       "    }\n",
       "\n",
       "    .dataframe thead th {\n",
       "        text-align: right;\n",
       "    }\n",
       "</style>\n",
       "<table border=\"1\" class=\"dataframe\">\n",
       "  <thead>\n",
       "    <tr style=\"text-align: right;\">\n",
       "      <th></th>\n",
       "      <th>id</th>\n",
       "      <th>member_id</th>\n",
       "      <th>loan_amnt</th>\n",
       "      <th>funded_amnt</th>\n",
       "      <th>funded_amnt_inv</th>\n",
       "      <th>term</th>\n",
       "      <th>int_rate</th>\n",
       "      <th>installment</th>\n",
       "      <th>grade</th>\n",
       "      <th>sub_grade</th>\n",
       "      <th>...</th>\n",
       "      <th>num_tl_90g_dpd_24m</th>\n",
       "      <th>num_tl_op_past_12m</th>\n",
       "      <th>pct_tl_nvr_dlq</th>\n",
       "      <th>percent_bc_gt_75</th>\n",
       "      <th>pub_rec_bankruptcies</th>\n",
       "      <th>tax_liens</th>\n",
       "      <th>tot_hi_cred_lim</th>\n",
       "      <th>total_bal_ex_mort</th>\n",
       "      <th>total_bc_limit</th>\n",
       "      <th>total_il_high_credit_limit</th>\n",
       "    </tr>\n",
       "  </thead>\n",
       "  <tbody>\n",
       "    <tr>\n",
       "      <th>0</th>\n",
       "      <td>1077501</td>\n",
       "      <td>1296599</td>\n",
       "      <td>5000</td>\n",
       "      <td>5000</td>\n",
       "      <td>4975.0</td>\n",
       "      <td>36 months</td>\n",
       "      <td>10.65%</td>\n",
       "      <td>162.87</td>\n",
       "      <td>B</td>\n",
       "      <td>B2</td>\n",
       "      <td>...</td>\n",
       "      <td>NaN</td>\n",
       "      <td>NaN</td>\n",
       "      <td>NaN</td>\n",
       "      <td>NaN</td>\n",
       "      <td>0.0</td>\n",
       "      <td>0.0</td>\n",
       "      <td>NaN</td>\n",
       "      <td>NaN</td>\n",
       "      <td>NaN</td>\n",
       "      <td>NaN</td>\n",
       "    </tr>\n",
       "    <tr>\n",
       "      <th>1</th>\n",
       "      <td>1077430</td>\n",
       "      <td>1314167</td>\n",
       "      <td>2500</td>\n",
       "      <td>2500</td>\n",
       "      <td>2500.0</td>\n",
       "      <td>60 months</td>\n",
       "      <td>15.27%</td>\n",
       "      <td>59.83</td>\n",
       "      <td>C</td>\n",
       "      <td>C4</td>\n",
       "      <td>...</td>\n",
       "      <td>NaN</td>\n",
       "      <td>NaN</td>\n",
       "      <td>NaN</td>\n",
       "      <td>NaN</td>\n",
       "      <td>0.0</td>\n",
       "      <td>0.0</td>\n",
       "      <td>NaN</td>\n",
       "      <td>NaN</td>\n",
       "      <td>NaN</td>\n",
       "      <td>NaN</td>\n",
       "    </tr>\n",
       "    <tr>\n",
       "      <th>2</th>\n",
       "      <td>1077175</td>\n",
       "      <td>1313524</td>\n",
       "      <td>2400</td>\n",
       "      <td>2400</td>\n",
       "      <td>2400.0</td>\n",
       "      <td>36 months</td>\n",
       "      <td>15.96%</td>\n",
       "      <td>84.33</td>\n",
       "      <td>C</td>\n",
       "      <td>C5</td>\n",
       "      <td>...</td>\n",
       "      <td>NaN</td>\n",
       "      <td>NaN</td>\n",
       "      <td>NaN</td>\n",
       "      <td>NaN</td>\n",
       "      <td>0.0</td>\n",
       "      <td>0.0</td>\n",
       "      <td>NaN</td>\n",
       "      <td>NaN</td>\n",
       "      <td>NaN</td>\n",
       "      <td>NaN</td>\n",
       "    </tr>\n",
       "    <tr>\n",
       "      <th>3</th>\n",
       "      <td>1076863</td>\n",
       "      <td>1277178</td>\n",
       "      <td>10000</td>\n",
       "      <td>10000</td>\n",
       "      <td>10000.0</td>\n",
       "      <td>36 months</td>\n",
       "      <td>13.49%</td>\n",
       "      <td>339.31</td>\n",
       "      <td>C</td>\n",
       "      <td>C1</td>\n",
       "      <td>...</td>\n",
       "      <td>NaN</td>\n",
       "      <td>NaN</td>\n",
       "      <td>NaN</td>\n",
       "      <td>NaN</td>\n",
       "      <td>0.0</td>\n",
       "      <td>0.0</td>\n",
       "      <td>NaN</td>\n",
       "      <td>NaN</td>\n",
       "      <td>NaN</td>\n",
       "      <td>NaN</td>\n",
       "    </tr>\n",
       "    <tr>\n",
       "      <th>4</th>\n",
       "      <td>1075358</td>\n",
       "      <td>1311748</td>\n",
       "      <td>3000</td>\n",
       "      <td>3000</td>\n",
       "      <td>3000.0</td>\n",
       "      <td>60 months</td>\n",
       "      <td>12.69%</td>\n",
       "      <td>67.79</td>\n",
       "      <td>B</td>\n",
       "      <td>B5</td>\n",
       "      <td>...</td>\n",
       "      <td>NaN</td>\n",
       "      <td>NaN</td>\n",
       "      <td>NaN</td>\n",
       "      <td>NaN</td>\n",
       "      <td>0.0</td>\n",
       "      <td>0.0</td>\n",
       "      <td>NaN</td>\n",
       "      <td>NaN</td>\n",
       "      <td>NaN</td>\n",
       "      <td>NaN</td>\n",
       "    </tr>\n",
       "  </tbody>\n",
       "</table>\n",
       "<p>5 rows × 111 columns</p>\n",
       "</div>"
      ],
      "text/plain": [
       "        id  member_id  loan_amnt  funded_amnt  funded_amnt_inv        term  \\\n",
       "0  1077501    1296599       5000         5000           4975.0   36 months   \n",
       "1  1077430    1314167       2500         2500           2500.0   60 months   \n",
       "2  1077175    1313524       2400         2400           2400.0   36 months   \n",
       "3  1076863    1277178      10000        10000          10000.0   36 months   \n",
       "4  1075358    1311748       3000         3000           3000.0   60 months   \n",
       "\n",
       "  int_rate  installment grade sub_grade  ... num_tl_90g_dpd_24m  \\\n",
       "0   10.65%       162.87     B        B2  ...                NaN   \n",
       "1   15.27%        59.83     C        C4  ...                NaN   \n",
       "2   15.96%        84.33     C        C5  ...                NaN   \n",
       "3   13.49%       339.31     C        C1  ...                NaN   \n",
       "4   12.69%        67.79     B        B5  ...                NaN   \n",
       "\n",
       "  num_tl_op_past_12m pct_tl_nvr_dlq  percent_bc_gt_75 pub_rec_bankruptcies  \\\n",
       "0                NaN            NaN               NaN                  0.0   \n",
       "1                NaN            NaN               NaN                  0.0   \n",
       "2                NaN            NaN               NaN                  0.0   \n",
       "3                NaN            NaN               NaN                  0.0   \n",
       "4                NaN            NaN               NaN                  0.0   \n",
       "\n",
       "  tax_liens tot_hi_cred_lim total_bal_ex_mort total_bc_limit  \\\n",
       "0       0.0             NaN               NaN            NaN   \n",
       "1       0.0             NaN               NaN            NaN   \n",
       "2       0.0             NaN               NaN            NaN   \n",
       "3       0.0             NaN               NaN            NaN   \n",
       "4       0.0             NaN               NaN            NaN   \n",
       "\n",
       "  total_il_high_credit_limit  \n",
       "0                        NaN  \n",
       "1                        NaN  \n",
       "2                        NaN  \n",
       "3                        NaN  \n",
       "4                        NaN  \n",
       "\n",
       "[5 rows x 111 columns]"
      ]
     },
     "metadata": {},
     "output_type": "display_data"
    }
   ],
   "source": [
    "raw_loans = pd.read_csv('loan.csv', dtype={47:str}, low_memory=False)\n",
    "\n",
    "# number of rows and columns\n",
    "print(\"Number of rows: \", len(raw_loans))\n",
    "print(\"Number of Columns: \", len(raw_loans.columns))\n",
    "\n",
    "raw_loans.head()"
   ]
  },
  {
   "attachments": {},
   "cell_type": "markdown",
   "metadata": {},
   "source": [
    "# Data Cleaning"
   ]
  },
  {
   "attachments": {},
   "cell_type": "markdown",
   "metadata": {},
   "source": [
    "## Fixing Rows & Columns"
   ]
  },
  {
   "attachments": {},
   "cell_type": "markdown",
   "metadata": {},
   "source": [
    "### Row Clean Up\n",
    "- Removing loans that are still in progress"
   ]
  },
  {
   "cell_type": "code",
   "execution_count": null,
   "metadata": {},
   "outputs": [
    {
     "data": {
      "text/plain": [
       "(38577, 111)"
      ]
     },
     "metadata": {},
     "output_type": "display_data"
    }
   ],
   "source": [
    "loans = raw_loans[raw_loans['loan_status'] != 'Current']\n",
    "loans.shape"
   ]
  },
  {
   "attachments": {},
   "cell_type": "markdown",
   "metadata": {},
   "source": [
    "### Columns Clean Up "
   ]
  },
  {
   "attachments": {},
   "cell_type": "markdown",
   "metadata": {},
   "source": [
    "#### Checking columns with nan values"
   ]
  },
  {
   "cell_type": "code",
   "execution_count": null,
   "metadata": {},
   "outputs": [
    {
     "data": {
      "text/plain": [
       "id                                0\n",
       "member_id                         0\n",
       "loan_amnt                         0\n",
       "funded_amnt                       0\n",
       "funded_amnt_inv                   0\n",
       "                              ...  \n",
       "tax_liens                        39\n",
       "tot_hi_cred_lim               38577\n",
       "total_bal_ex_mort             38577\n",
       "total_bc_limit                38577\n",
       "total_il_high_credit_limit    38577\n",
       "Length: 111, dtype: int64"
      ]
     },
     "metadata": {},
     "output_type": "display_data"
    }
   ],
   "source": [
    "loans.isna().sum()"
   ]
  },
  {
   "cell_type": "code",
   "execution_count": null,
   "metadata": {},
   "outputs": [
    {
     "name": "stdout",
     "output_type": "stream",
     "text": [
      "55 collumns have nan values in all rows, these columns can be dropped\n"
     ]
    }
   ],
   "source": [
    "print(len(loans.columns[loans.isna().all()]), \"collumns have nan values in all rows, these columns can be dropped\")"
   ]
  },
  {
   "attachments": {},
   "cell_type": "markdown",
   "metadata": {},
   "source": [
    "##### Dropping columns with all nan values"
   ]
  },
  {
   "cell_type": "code",
   "execution_count": null,
   "metadata": {},
   "outputs": [
    {
     "name": "stdout",
     "output_type": "stream",
     "text": [
      "Columns left:  56\n"
     ]
    }
   ],
   "source": [
    "loans = loans.dropna(axis=1, how='all')\n",
    "\n",
    "# Left with columns data\n",
    "print(\"Columns left: \", len(loans.columns))"
   ]
  },
  {
   "attachments": {},
   "cell_type": "markdown",
   "metadata": {},
   "source": [
    "#### Checking columns with only one unique values"
   ]
  },
  {
   "cell_type": "code",
   "execution_count": null,
   "metadata": {},
   "outputs": [
    {
     "data": {
      "text/plain": [
       "Index(['pymnt_plan', 'initial_list_status', 'out_prncp', 'out_prncp_inv',\n",
       "       'collections_12_mths_ex_med', 'policy_code', 'application_type',\n",
       "       'acc_now_delinq', 'chargeoff_within_12_mths', 'delinq_amnt',\n",
       "       'tax_liens'],\n",
       "      dtype='object')"
      ]
     },
     "metadata": {},
     "output_type": "display_data"
    }
   ],
   "source": [
    "loans.columns[loans.nunique() == 1]"
   ]
  },
  {
   "cell_type": "code",
   "execution_count": null,
   "metadata": {},
   "outputs": [
    {
     "name": "stdout",
     "output_type": "stream",
     "text": [
      "11 columns have only one unique value, these columns can be dropped as they do not provide any useful information\n"
     ]
    }
   ],
   "source": [
    "unique_value_cols = loans.columns[loans.nunique() == 1]\n",
    "\n",
    "print(len(unique_value_cols), \"columns have only one unique value, these columns can be dropped as they do not provide any useful information\")"
   ]
  },
  {
   "attachments": {},
   "cell_type": "markdown",
   "metadata": {},
   "source": [
    "##### Dropping columns with all same values"
   ]
  },
  {
   "cell_type": "code",
   "execution_count": null,
   "metadata": {},
   "outputs": [
    {
     "name": "stdout",
     "output_type": "stream",
     "text": [
      "Columns left:  45\n"
     ]
    }
   ],
   "source": [
    "loans = loans.drop(unique_value_cols, axis=1)\n",
    "\n",
    "# Left with columns data\n",
    "print(\"Columns left: \", len(loans.columns))"
   ]
  },
  {
   "attachments": {},
   "cell_type": "markdown",
   "metadata": {},
   "source": [
    "### Dropping Un-useful Columns"
   ]
  },
  {
   "cell_type": "code",
   "execution_count": null,
   "metadata": {},
   "outputs": [
    {
     "name": "stdout",
     "output_type": "stream",
     "text": [
      "<class 'pandas.core.frame.DataFrame'>\n",
      "Int64Index: 38577 entries, 0 to 39716\n",
      "Data columns (total 45 columns):\n",
      " #   Column                   Non-Null Count  Dtype  \n",
      "---  ------                   --------------  -----  \n",
      " 0   id                       38577 non-null  int64  \n",
      " 1   member_id                38577 non-null  int64  \n",
      " 2   loan_amnt                38577 non-null  int64  \n",
      " 3   funded_amnt              38577 non-null  int64  \n",
      " 4   funded_amnt_inv          38577 non-null  float64\n",
      " 5   term                     38577 non-null  object \n",
      " 6   int_rate                 38577 non-null  object \n",
      " 7   installment              38577 non-null  float64\n",
      " 8   grade                    38577 non-null  object \n",
      " 9   sub_grade                38577 non-null  object \n",
      " 10  emp_title                36191 non-null  object \n",
      " 11  emp_length               37544 non-null  object \n",
      " 12  home_ownership           38577 non-null  object \n",
      " 13  annual_inc               38577 non-null  float64\n",
      " 14  verification_status      38577 non-null  object \n",
      " 15  issue_d                  38577 non-null  object \n",
      " 16  loan_status              38577 non-null  object \n",
      " 17  url                      38577 non-null  object \n",
      " 18  desc                     26050 non-null  object \n",
      " 19  purpose                  38577 non-null  object \n",
      " 20  title                    38566 non-null  object \n",
      " 21  zip_code                 38577 non-null  object \n",
      " 22  addr_state               38577 non-null  object \n",
      " 23  dti                      38577 non-null  float64\n",
      " 24  delinq_2yrs              38577 non-null  int64  \n",
      " 25  earliest_cr_line         38577 non-null  object \n",
      " 26  inq_last_6mths           38577 non-null  int64  \n",
      " 27  mths_since_last_delinq   13672 non-null  float64\n",
      " 28  mths_since_last_record   2740 non-null   float64\n",
      " 29  open_acc                 38577 non-null  int64  \n",
      " 30  pub_rec                  38577 non-null  int64  \n",
      " 31  revol_bal                38577 non-null  int64  \n",
      " 32  revol_util               38527 non-null  object \n",
      " 33  total_acc                38577 non-null  int64  \n",
      " 34  total_pymnt              38577 non-null  float64\n",
      " 35  total_pymnt_inv          38577 non-null  float64\n",
      " 36  total_rec_prncp          38577 non-null  float64\n",
      " 37  total_rec_int            38577 non-null  float64\n",
      " 38  total_rec_late_fee       38577 non-null  float64\n",
      " 39  recoveries               38577 non-null  float64\n",
      " 40  collection_recovery_fee  38577 non-null  float64\n",
      " 41  last_pymnt_d             38506 non-null  object \n",
      " 42  last_pymnt_amnt          38577 non-null  float64\n",
      " 43  last_credit_pull_d       38575 non-null  object \n",
      " 44  pub_rec_bankruptcies     37880 non-null  float64\n",
      "dtypes: float64(15), int64(10), object(20)\n",
      "memory usage: 13.5+ MB\n"
     ]
    }
   ],
   "source": [
    "loans.info()"
   ]
  },
  {
   "cell_type": "code",
   "execution_count": null,
   "metadata": {},
   "outputs": [
    {
     "data": {
      "text/html": [
       "<div>\n",
       "<style scoped>\n",
       "    .dataframe tbody tr th:only-of-type {\n",
       "        vertical-align: middle;\n",
       "    }\n",
       "\n",
       "    .dataframe tbody tr th {\n",
       "        vertical-align: top;\n",
       "    }\n",
       "\n",
       "    .dataframe thead th {\n",
       "        text-align: right;\n",
       "    }\n",
       "</style>\n",
       "<table border=\"1\" class=\"dataframe\">\n",
       "  <thead>\n",
       "    <tr style=\"text-align: right;\">\n",
       "      <th></th>\n",
       "      <th>id</th>\n",
       "      <th>member_id</th>\n",
       "      <th>loan_amnt</th>\n",
       "      <th>funded_amnt</th>\n",
       "      <th>funded_amnt_inv</th>\n",
       "      <th>term</th>\n",
       "      <th>int_rate</th>\n",
       "      <th>installment</th>\n",
       "      <th>grade</th>\n",
       "      <th>sub_grade</th>\n",
       "      <th>...</th>\n",
       "      <th>total_pymnt_inv</th>\n",
       "      <th>total_rec_prncp</th>\n",
       "      <th>total_rec_int</th>\n",
       "      <th>total_rec_late_fee</th>\n",
       "      <th>recoveries</th>\n",
       "      <th>collection_recovery_fee</th>\n",
       "      <th>last_pymnt_d</th>\n",
       "      <th>last_pymnt_amnt</th>\n",
       "      <th>last_credit_pull_d</th>\n",
       "      <th>pub_rec_bankruptcies</th>\n",
       "    </tr>\n",
       "  </thead>\n",
       "  <tbody>\n",
       "    <tr>\n",
       "      <th>0</th>\n",
       "      <td>1077501</td>\n",
       "      <td>1296599</td>\n",
       "      <td>5000</td>\n",
       "      <td>5000</td>\n",
       "      <td>4975.0</td>\n",
       "      <td>36 months</td>\n",
       "      <td>10.65%</td>\n",
       "      <td>162.87</td>\n",
       "      <td>B</td>\n",
       "      <td>B2</td>\n",
       "      <td>...</td>\n",
       "      <td>5833.84</td>\n",
       "      <td>5000.00</td>\n",
       "      <td>863.16</td>\n",
       "      <td>0.00</td>\n",
       "      <td>0.00</td>\n",
       "      <td>0.00</td>\n",
       "      <td>Jan-15</td>\n",
       "      <td>171.62</td>\n",
       "      <td>May-16</td>\n",
       "      <td>0.0</td>\n",
       "    </tr>\n",
       "    <tr>\n",
       "      <th>1</th>\n",
       "      <td>1077430</td>\n",
       "      <td>1314167</td>\n",
       "      <td>2500</td>\n",
       "      <td>2500</td>\n",
       "      <td>2500.0</td>\n",
       "      <td>60 months</td>\n",
       "      <td>15.27%</td>\n",
       "      <td>59.83</td>\n",
       "      <td>C</td>\n",
       "      <td>C4</td>\n",
       "      <td>...</td>\n",
       "      <td>1008.71</td>\n",
       "      <td>456.46</td>\n",
       "      <td>435.17</td>\n",
       "      <td>0.00</td>\n",
       "      <td>117.08</td>\n",
       "      <td>1.11</td>\n",
       "      <td>Apr-13</td>\n",
       "      <td>119.66</td>\n",
       "      <td>Sep-13</td>\n",
       "      <td>0.0</td>\n",
       "    </tr>\n",
       "    <tr>\n",
       "      <th>2</th>\n",
       "      <td>1077175</td>\n",
       "      <td>1313524</td>\n",
       "      <td>2400</td>\n",
       "      <td>2400</td>\n",
       "      <td>2400.0</td>\n",
       "      <td>36 months</td>\n",
       "      <td>15.96%</td>\n",
       "      <td>84.33</td>\n",
       "      <td>C</td>\n",
       "      <td>C5</td>\n",
       "      <td>...</td>\n",
       "      <td>3005.67</td>\n",
       "      <td>2400.00</td>\n",
       "      <td>605.67</td>\n",
       "      <td>0.00</td>\n",
       "      <td>0.00</td>\n",
       "      <td>0.00</td>\n",
       "      <td>Jun-14</td>\n",
       "      <td>649.91</td>\n",
       "      <td>May-16</td>\n",
       "      <td>0.0</td>\n",
       "    </tr>\n",
       "    <tr>\n",
       "      <th>3</th>\n",
       "      <td>1076863</td>\n",
       "      <td>1277178</td>\n",
       "      <td>10000</td>\n",
       "      <td>10000</td>\n",
       "      <td>10000.0</td>\n",
       "      <td>36 months</td>\n",
       "      <td>13.49%</td>\n",
       "      <td>339.31</td>\n",
       "      <td>C</td>\n",
       "      <td>C1</td>\n",
       "      <td>...</td>\n",
       "      <td>12231.89</td>\n",
       "      <td>10000.00</td>\n",
       "      <td>2214.92</td>\n",
       "      <td>16.97</td>\n",
       "      <td>0.00</td>\n",
       "      <td>0.00</td>\n",
       "      <td>Jan-15</td>\n",
       "      <td>357.48</td>\n",
       "      <td>Apr-16</td>\n",
       "      <td>0.0</td>\n",
       "    </tr>\n",
       "    <tr>\n",
       "      <th>5</th>\n",
       "      <td>1075269</td>\n",
       "      <td>1311441</td>\n",
       "      <td>5000</td>\n",
       "      <td>5000</td>\n",
       "      <td>5000.0</td>\n",
       "      <td>36 months</td>\n",
       "      <td>7.90%</td>\n",
       "      <td>156.46</td>\n",
       "      <td>A</td>\n",
       "      <td>A4</td>\n",
       "      <td>...</td>\n",
       "      <td>5632.21</td>\n",
       "      <td>5000.00</td>\n",
       "      <td>632.21</td>\n",
       "      <td>0.00</td>\n",
       "      <td>0.00</td>\n",
       "      <td>0.00</td>\n",
       "      <td>Jan-15</td>\n",
       "      <td>161.03</td>\n",
       "      <td>Jan-16</td>\n",
       "      <td>0.0</td>\n",
       "    </tr>\n",
       "  </tbody>\n",
       "</table>\n",
       "<p>5 rows × 45 columns</p>\n",
       "</div>"
      ],
      "text/plain": [
       "        id  member_id  loan_amnt  funded_amnt  funded_amnt_inv        term  \\\n",
       "0  1077501    1296599       5000         5000           4975.0   36 months   \n",
       "1  1077430    1314167       2500         2500           2500.0   60 months   \n",
       "2  1077175    1313524       2400         2400           2400.0   36 months   \n",
       "3  1076863    1277178      10000        10000          10000.0   36 months   \n",
       "5  1075269    1311441       5000         5000           5000.0   36 months   \n",
       "\n",
       "  int_rate  installment grade sub_grade  ... total_pymnt_inv total_rec_prncp  \\\n",
       "0   10.65%       162.87     B        B2  ...         5833.84         5000.00   \n",
       "1   15.27%        59.83     C        C4  ...         1008.71          456.46   \n",
       "2   15.96%        84.33     C        C5  ...         3005.67         2400.00   \n",
       "3   13.49%       339.31     C        C1  ...        12231.89        10000.00   \n",
       "5    7.90%       156.46     A        A4  ...         5632.21         5000.00   \n",
       "\n",
       "  total_rec_int  total_rec_late_fee recoveries collection_recovery_fee  \\\n",
       "0        863.16                0.00       0.00                    0.00   \n",
       "1        435.17                0.00     117.08                    1.11   \n",
       "2        605.67                0.00       0.00                    0.00   \n",
       "3       2214.92               16.97       0.00                    0.00   \n",
       "5        632.21                0.00       0.00                    0.00   \n",
       "\n",
       "  last_pymnt_d last_pymnt_amnt last_credit_pull_d pub_rec_bankruptcies  \n",
       "0       Jan-15          171.62             May-16                  0.0  \n",
       "1       Apr-13          119.66             Sep-13                  0.0  \n",
       "2       Jun-14          649.91             May-16                  0.0  \n",
       "3       Jan-15          357.48             Apr-16                  0.0  \n",
       "5       Jan-15          161.03             Jan-16                  0.0  \n",
       "\n",
       "[5 rows x 45 columns]"
      ]
     },
     "metadata": {},
     "output_type": "display_data"
    }
   ],
   "source": [
    "loans.head()"
   ]
  },
  {
   "attachments": {},
   "cell_type": "markdown",
   "metadata": {},
   "source": [
    "#### Now we have 45 columns out of which we have some columns not useful for the analysis\n",
    "- Columns such as 'id', 'member_id', 'url', 'desc', 'title', doesn't contribute to loan defaulting in any way. So excluding them from analysis.\n",
    "- 'emp_title' has 28,027 unique values out of 38,577 total values. So it doesn't contribute usefully to the analysis. So dropping that.\n",
    "- Among 'zip_code', 'addr_state' any one of them can be used for analysis based on location, so we can remove the earlier column.\n",
    "- 'mths_since_last_delinq', 'mnths_since_last_record' has >60% missing values, so removing them.\n",
    "- Columns such as 'collection_recovery_fee', 'last_pymnt_amnt', 'last_pymnt_d', 'recoveries', are part of post-loan approval. But we are analysing the data for pre-loan approval. Hence the said columns are removed.\n",
    "- 'funded_amnt_inv', 'total_pymnt_inv' is useful for investors but doesn't contribute for analysing loan defaulter , so droping that."
   ]
  },
  {
   "cell_type": "code",
   "execution_count": null,
   "metadata": {},
   "outputs": [
    {
     "data": {
      "text/html": [
       "<div>\n",
       "<style scoped>\n",
       "    .dataframe tbody tr th:only-of-type {\n",
       "        vertical-align: middle;\n",
       "    }\n",
       "\n",
       "    .dataframe tbody tr th {\n",
       "        vertical-align: top;\n",
       "    }\n",
       "\n",
       "    .dataframe thead th {\n",
       "        text-align: right;\n",
       "    }\n",
       "</style>\n",
       "<table border=\"1\" class=\"dataframe\">\n",
       "  <thead>\n",
       "    <tr style=\"text-align: right;\">\n",
       "      <th></th>\n",
       "      <th>loan_amnt</th>\n",
       "      <th>funded_amnt</th>\n",
       "      <th>term</th>\n",
       "      <th>int_rate</th>\n",
       "      <th>installment</th>\n",
       "      <th>grade</th>\n",
       "      <th>sub_grade</th>\n",
       "      <th>emp_length</th>\n",
       "      <th>home_ownership</th>\n",
       "      <th>annual_inc</th>\n",
       "      <th>...</th>\n",
       "      <th>pub_rec</th>\n",
       "      <th>revol_bal</th>\n",
       "      <th>revol_util</th>\n",
       "      <th>total_acc</th>\n",
       "      <th>total_pymnt</th>\n",
       "      <th>total_rec_prncp</th>\n",
       "      <th>total_rec_int</th>\n",
       "      <th>total_rec_late_fee</th>\n",
       "      <th>last_credit_pull_d</th>\n",
       "      <th>pub_rec_bankruptcies</th>\n",
       "    </tr>\n",
       "  </thead>\n",
       "  <tbody>\n",
       "    <tr>\n",
       "      <th>0</th>\n",
       "      <td>5000</td>\n",
       "      <td>5000</td>\n",
       "      <td>36 months</td>\n",
       "      <td>10.65%</td>\n",
       "      <td>162.87</td>\n",
       "      <td>B</td>\n",
       "      <td>B2</td>\n",
       "      <td>10+ years</td>\n",
       "      <td>RENT</td>\n",
       "      <td>24000.0</td>\n",
       "      <td>...</td>\n",
       "      <td>0</td>\n",
       "      <td>13648</td>\n",
       "      <td>83.70%</td>\n",
       "      <td>9</td>\n",
       "      <td>5863.155187</td>\n",
       "      <td>5000.00</td>\n",
       "      <td>863.16</td>\n",
       "      <td>0.00</td>\n",
       "      <td>May-16</td>\n",
       "      <td>0.0</td>\n",
       "    </tr>\n",
       "    <tr>\n",
       "      <th>1</th>\n",
       "      <td>2500</td>\n",
       "      <td>2500</td>\n",
       "      <td>60 months</td>\n",
       "      <td>15.27%</td>\n",
       "      <td>59.83</td>\n",
       "      <td>C</td>\n",
       "      <td>C4</td>\n",
       "      <td>&lt; 1 year</td>\n",
       "      <td>RENT</td>\n",
       "      <td>30000.0</td>\n",
       "      <td>...</td>\n",
       "      <td>0</td>\n",
       "      <td>1687</td>\n",
       "      <td>9.40%</td>\n",
       "      <td>4</td>\n",
       "      <td>1008.710000</td>\n",
       "      <td>456.46</td>\n",
       "      <td>435.17</td>\n",
       "      <td>0.00</td>\n",
       "      <td>Sep-13</td>\n",
       "      <td>0.0</td>\n",
       "    </tr>\n",
       "    <tr>\n",
       "      <th>2</th>\n",
       "      <td>2400</td>\n",
       "      <td>2400</td>\n",
       "      <td>36 months</td>\n",
       "      <td>15.96%</td>\n",
       "      <td>84.33</td>\n",
       "      <td>C</td>\n",
       "      <td>C5</td>\n",
       "      <td>10+ years</td>\n",
       "      <td>RENT</td>\n",
       "      <td>12252.0</td>\n",
       "      <td>...</td>\n",
       "      <td>0</td>\n",
       "      <td>2956</td>\n",
       "      <td>98.50%</td>\n",
       "      <td>10</td>\n",
       "      <td>3005.666844</td>\n",
       "      <td>2400.00</td>\n",
       "      <td>605.67</td>\n",
       "      <td>0.00</td>\n",
       "      <td>May-16</td>\n",
       "      <td>0.0</td>\n",
       "    </tr>\n",
       "    <tr>\n",
       "      <th>3</th>\n",
       "      <td>10000</td>\n",
       "      <td>10000</td>\n",
       "      <td>36 months</td>\n",
       "      <td>13.49%</td>\n",
       "      <td>339.31</td>\n",
       "      <td>C</td>\n",
       "      <td>C1</td>\n",
       "      <td>10+ years</td>\n",
       "      <td>RENT</td>\n",
       "      <td>49200.0</td>\n",
       "      <td>...</td>\n",
       "      <td>0</td>\n",
       "      <td>5598</td>\n",
       "      <td>21%</td>\n",
       "      <td>37</td>\n",
       "      <td>12231.890000</td>\n",
       "      <td>10000.00</td>\n",
       "      <td>2214.92</td>\n",
       "      <td>16.97</td>\n",
       "      <td>Apr-16</td>\n",
       "      <td>0.0</td>\n",
       "    </tr>\n",
       "    <tr>\n",
       "      <th>5</th>\n",
       "      <td>5000</td>\n",
       "      <td>5000</td>\n",
       "      <td>36 months</td>\n",
       "      <td>7.90%</td>\n",
       "      <td>156.46</td>\n",
       "      <td>A</td>\n",
       "      <td>A4</td>\n",
       "      <td>3 years</td>\n",
       "      <td>RENT</td>\n",
       "      <td>36000.0</td>\n",
       "      <td>...</td>\n",
       "      <td>0</td>\n",
       "      <td>7963</td>\n",
       "      <td>28.30%</td>\n",
       "      <td>12</td>\n",
       "      <td>5632.210000</td>\n",
       "      <td>5000.00</td>\n",
       "      <td>632.21</td>\n",
       "      <td>0.00</td>\n",
       "      <td>Jan-16</td>\n",
       "      <td>0.0</td>\n",
       "    </tr>\n",
       "  </tbody>\n",
       "</table>\n",
       "<p>5 rows × 30 columns</p>\n",
       "</div>"
      ],
      "text/plain": [
       "   loan_amnt  funded_amnt        term int_rate  installment grade sub_grade  \\\n",
       "0       5000         5000   36 months   10.65%       162.87     B        B2   \n",
       "1       2500         2500   60 months   15.27%        59.83     C        C4   \n",
       "2       2400         2400   36 months   15.96%        84.33     C        C5   \n",
       "3      10000        10000   36 months   13.49%       339.31     C        C1   \n",
       "5       5000         5000   36 months    7.90%       156.46     A        A4   \n",
       "\n",
       "  emp_length home_ownership  annual_inc  ... pub_rec revol_bal revol_util  \\\n",
       "0  10+ years           RENT     24000.0  ...       0     13648     83.70%   \n",
       "1   < 1 year           RENT     30000.0  ...       0      1687      9.40%   \n",
       "2  10+ years           RENT     12252.0  ...       0      2956     98.50%   \n",
       "3  10+ years           RENT     49200.0  ...       0      5598        21%   \n",
       "5    3 years           RENT     36000.0  ...       0      7963     28.30%   \n",
       "\n",
       "  total_acc   total_pymnt  total_rec_prncp  total_rec_int total_rec_late_fee  \\\n",
       "0         9   5863.155187          5000.00         863.16               0.00   \n",
       "1         4   1008.710000           456.46         435.17               0.00   \n",
       "2        10   3005.666844          2400.00         605.67               0.00   \n",
       "3        37  12231.890000         10000.00        2214.92              16.97   \n",
       "5        12   5632.210000          5000.00         632.21               0.00   \n",
       "\n",
       "   last_credit_pull_d  pub_rec_bankruptcies  \n",
       "0              May-16                   0.0  \n",
       "1              Sep-13                   0.0  \n",
       "2              May-16                   0.0  \n",
       "3              Apr-16                   0.0  \n",
       "5              Jan-16                   0.0  \n",
       "\n",
       "[5 rows x 30 columns]"
      ]
     },
     "metadata": {},
     "output_type": "display_data"
    }
   ],
   "source": [
    "loans = loans.drop(['id', 'member_id', 'url', 'desc', 'title', 'emp_title', 'zip_code', 'mths_since_last_delinq', 'mths_since_last_record', 'collection_recovery_fee', 'last_pymnt_amnt', 'last_pymnt_d', 'recoveries', 'funded_amnt_inv', 'total_pymnt_inv'], axis=1)\n",
    "loans.head()"
   ]
  },
  {
   "cell_type": "code",
   "execution_count": null,
   "metadata": {},
   "outputs": [
    {
     "data": {
      "text/plain": [
       "(38577, 30)"
      ]
     },
     "metadata": {},
     "output_type": "display_data"
    }
   ],
   "source": [
    "loans.shape"
   ]
  },
  {
   "cell_type": "code",
   "execution_count": null,
   "metadata": {},
   "outputs": [
    {
     "data": {
      "text/plain": [
       "Index(['loan_amnt', 'funded_amnt', 'term', 'int_rate', 'installment', 'grade',\n",
       "       'sub_grade', 'emp_length', 'home_ownership', 'annual_inc',\n",
       "       'verification_status', 'issue_d', 'loan_status', 'purpose',\n",
       "       'addr_state', 'dti', 'delinq_2yrs', 'earliest_cr_line',\n",
       "       'inq_last_6mths', 'open_acc', 'pub_rec', 'revol_bal', 'revol_util',\n",
       "       'total_acc', 'total_pymnt', 'total_rec_prncp', 'total_rec_int',\n",
       "       'total_rec_late_fee', 'last_credit_pull_d', 'pub_rec_bankruptcies'],\n",
       "      dtype='object')"
      ]
     },
     "metadata": {},
     "output_type": "display_data"
    }
   ],
   "source": [
    "loans.columns"
   ]
  },
  {
   "attachments": {},
   "cell_type": "markdown",
   "metadata": {},
   "source": [
    "#### Checking for missing values"
   ]
  },
  {
   "cell_type": "code",
   "execution_count": null,
   "metadata": {},
   "outputs": [
    {
     "data": {
      "text/plain": [
       "emp_length              2.677761\n",
       "revol_util              0.129611\n",
       "last_credit_pull_d      0.005184\n",
       "pub_rec_bankruptcies    1.806776\n",
       "dtype: float64"
      ]
     },
     "metadata": {},
     "output_type": "display_data"
    }
   ],
   "source": [
    "missing = (loans.isna().sum()/len(loans.index))*100\n",
    "missing[missing>0]"
   ]
  },
  {
   "cell_type": "code",
   "execution_count": null,
   "metadata": {},
   "outputs": [
    {
     "data": {
      "text/plain": [
       "emp_length              1033\n",
       "revol_util                50\n",
       "last_credit_pull_d         2\n",
       "pub_rec_bankruptcies     697\n",
       "dtype: int64"
      ]
     },
     "metadata": {},
     "output_type": "display_data"
    }
   ],
   "source": [
    "missing = loans.isna().sum()\n",
    "missing[missing>0]"
   ]
  },
  {
   "attachments": {},
   "cell_type": "markdown",
   "metadata": {},
   "source": [
    "#### Handling Missing Values\n",
    "- Columns with missing values are 'emp_length', 'revol_util', 'last_credit_pull_d', 'pub_rec_bankruptcies'\n",
    "- Let's see what type of data each column has"
   ]
  },
  {
   "cell_type": "code",
   "execution_count": null,
   "metadata": {},
   "outputs": [
    {
     "name": "stdout",
     "output_type": "stream",
     "text": [
      "<class 'pandas.core.frame.DataFrame'>\n",
      "Int64Index: 38577 entries, 0 to 39716\n",
      "Data columns (total 4 columns):\n",
      " #   Column                Non-Null Count  Dtype  \n",
      "---  ------                --------------  -----  \n",
      " 0   emp_length            37544 non-null  object \n",
      " 1   revol_util            38527 non-null  object \n",
      " 2   last_credit_pull_d    38575 non-null  object \n",
      " 3   pub_rec_bankruptcies  37880 non-null  float64\n",
      "dtypes: float64(1), object(3)\n",
      "memory usage: 1.5+ MB\n"
     ]
    }
   ],
   "source": [
    "loans[['emp_length', 'revol_util', 'last_credit_pull_d', 'pub_rec_bankruptcies']].info()"
   ]
  },
  {
   "cell_type": "code",
   "execution_count": null,
   "metadata": {},
   "outputs": [
    {
     "name": "stdout",
     "output_type": "stream",
     "text": [
      "Mode :  10+ years\n"
     ]
    },
    {
     "data": {
      "text/plain": [
       "10+ years    8488\n",
       "< 1 year     4508\n",
       "2 years      4291\n",
       "3 years      4012\n",
       "4 years      3342\n",
       "5 years      3194\n",
       "1 year       3169\n",
       "6 years      2168\n",
       "7 years      1711\n",
       "8 years      1435\n",
       "9 years      1226\n",
       "Name: emp_length, dtype: int64"
      ]
     },
     "metadata": {},
     "output_type": "display_data"
    }
   ],
   "source": [
    "print(\"Mode : \", loans['emp_length'].mode()[0])\n",
    "loans['emp_length'].value_counts()"
   ]
  },
  {
   "attachments": {},
   "cell_type": "markdown",
   "metadata": {},
   "source": [
    "##### The above value counts shows that the mode value has higher frequency than that of the next most frequent value.\n",
    "- Since the missing values are in a very low percentage, imputing the missing values with the mode of the existing 'emp_length' values doesn't effect the analysis much.\n",
    "- Hence assigning the mode to the null values in the column"
   ]
  },
  {
   "cell_type": "code",
   "execution_count": null,
   "metadata": {},
   "outputs": [
    {
     "data": {
      "text/plain": [
       "0"
      ]
     },
     "metadata": {},
     "output_type": "display_data"
    }
   ],
   "source": [
    "loans['emp_length'].fillna(loans['emp_length'].mode()[0], inplace = True)\n",
    "loans['emp_length'].isna().sum()"
   ]
  },
  {
   "cell_type": "code",
   "execution_count": null,
   "metadata": {},
   "outputs": [
    {
     "data": {
      "text/plain": [
       "revol_util              0.129611\n",
       "last_credit_pull_d      0.005184\n",
       "pub_rec_bankruptcies    1.806776\n",
       "dtype: float64"
      ]
     },
     "metadata": {},
     "output_type": "display_data"
    }
   ],
   "source": [
    "missing = (loans.isna().sum()/len(loans.index))*100\n",
    "missing[missing>0]"
   ]
  },
  {
   "attachments": {},
   "cell_type": "markdown",
   "metadata": {},
   "source": [
    "Dropping the rows with empty values in the columns: 'revol_util', 'last_credit_pull_d' , as the percent of missing values are very very small."
   ]
  },
  {
   "cell_type": "code",
   "execution_count": null,
   "metadata": {},
   "outputs": [],
   "source": [
    "loans = loans[~loans.revol_util.isnull()]\n",
    "loans = loans[~loans.last_credit_pull_d.isnull()]"
   ]
  },
  {
   "cell_type": "code",
   "execution_count": null,
   "metadata": {},
   "outputs": [
    {
     "name": "stdout",
     "output_type": "stream",
     "text": [
      "Mode :  0.0\n"
     ]
    },
    {
     "data": {
      "text/plain": [
       "0.0    36188\n",
       "1.0     1636\n",
       "2.0        5\n",
       "Name: pub_rec_bankruptcies, dtype: int64"
      ]
     },
     "metadata": {},
     "output_type": "display_data"
    }
   ],
   "source": [
    "print(\"Mode : \", loans['pub_rec_bankruptcies'].mode()[0])\n",
    "loans['pub_rec_bankruptcies'].value_counts()"
   ]
  },
  {
   "attachments": {},
   "cell_type": "markdown",
   "metadata": {},
   "source": [
    "##### The above value counts shows that the mode value has higher frequency than that of the next most frequent value.\n",
    "- Since the missing values are in a very low percentage, imputing the missing values with the mode of the existing 'pub_rec_bankruptcies' values doesn't effect the analysis much.\n",
    "- Hence assigning the mode to the null values in the column"
   ]
  },
  {
   "cell_type": "code",
   "execution_count": null,
   "metadata": {},
   "outputs": [
    {
     "data": {
      "text/plain": [
       "0"
      ]
     },
     "metadata": {},
     "output_type": "display_data"
    }
   ],
   "source": [
    "loans['pub_rec_bankruptcies'].fillna(loans['pub_rec_bankruptcies'].mode()[0], inplace = True)\n",
    "loans['pub_rec_bankruptcies'].isna().sum()"
   ]
  },
  {
   "cell_type": "code",
   "execution_count": null,
   "metadata": {},
   "outputs": [
    {
     "name": "stdout",
     "output_type": "stream",
     "text": [
      "Missing values:  Series([], dtype: int64)\n"
     ]
    }
   ],
   "source": [
    "missing = loans.isna().sum()\n",
    "print(\"Missing values: \", missing[missing>0])"
   ]
  },
  {
   "cell_type": "code",
   "execution_count": null,
   "metadata": {},
   "outputs": [],
   "source": []
  },
  {
   "cell_type": "code",
   "execution_count": null,
   "metadata": {},
   "outputs": [
    {
     "data": {
      "text/html": [
       "<div>\n",
       "<style scoped>\n",
       "    .dataframe tbody tr th:only-of-type {\n",
       "        vertical-align: middle;\n",
       "    }\n",
       "\n",
       "    .dataframe tbody tr th {\n",
       "        vertical-align: top;\n",
       "    }\n",
       "\n",
       "    .dataframe thead th {\n",
       "        text-align: right;\n",
       "    }\n",
       "</style>\n",
       "<table border=\"1\" class=\"dataframe\">\n",
       "  <thead>\n",
       "    <tr style=\"text-align: right;\">\n",
       "      <th></th>\n",
       "      <th>loan_amnt</th>\n",
       "      <th>funded_amnt</th>\n",
       "      <th>term</th>\n",
       "      <th>int_rate</th>\n",
       "      <th>installment</th>\n",
       "      <th>grade</th>\n",
       "      <th>sub_grade</th>\n",
       "      <th>emp_length</th>\n",
       "      <th>home_ownership</th>\n",
       "      <th>annual_inc</th>\n",
       "      <th>...</th>\n",
       "      <th>pub_rec</th>\n",
       "      <th>revol_bal</th>\n",
       "      <th>revol_util</th>\n",
       "      <th>total_acc</th>\n",
       "      <th>total_pymnt</th>\n",
       "      <th>total_rec_prncp</th>\n",
       "      <th>total_rec_int</th>\n",
       "      <th>total_rec_late_fee</th>\n",
       "      <th>last_credit_pull_d</th>\n",
       "      <th>pub_rec_bankruptcies</th>\n",
       "    </tr>\n",
       "  </thead>\n",
       "  <tbody>\n",
       "    <tr>\n",
       "      <th>0</th>\n",
       "      <td>5000</td>\n",
       "      <td>5000</td>\n",
       "      <td>36 months</td>\n",
       "      <td>10.65%</td>\n",
       "      <td>162.87</td>\n",
       "      <td>B</td>\n",
       "      <td>B2</td>\n",
       "      <td>10+ years</td>\n",
       "      <td>RENT</td>\n",
       "      <td>24000.0</td>\n",
       "      <td>...</td>\n",
       "      <td>0</td>\n",
       "      <td>13648</td>\n",
       "      <td>83.70%</td>\n",
       "      <td>9</td>\n",
       "      <td>5863.155187</td>\n",
       "      <td>5000.00</td>\n",
       "      <td>863.16</td>\n",
       "      <td>0.00</td>\n",
       "      <td>May-16</td>\n",
       "      <td>0.0</td>\n",
       "    </tr>\n",
       "    <tr>\n",
       "      <th>1</th>\n",
       "      <td>2500</td>\n",
       "      <td>2500</td>\n",
       "      <td>60 months</td>\n",
       "      <td>15.27%</td>\n",
       "      <td>59.83</td>\n",
       "      <td>C</td>\n",
       "      <td>C4</td>\n",
       "      <td>&lt; 1 year</td>\n",
       "      <td>RENT</td>\n",
       "      <td>30000.0</td>\n",
       "      <td>...</td>\n",
       "      <td>0</td>\n",
       "      <td>1687</td>\n",
       "      <td>9.40%</td>\n",
       "      <td>4</td>\n",
       "      <td>1008.710000</td>\n",
       "      <td>456.46</td>\n",
       "      <td>435.17</td>\n",
       "      <td>0.00</td>\n",
       "      <td>Sep-13</td>\n",
       "      <td>0.0</td>\n",
       "    </tr>\n",
       "    <tr>\n",
       "      <th>2</th>\n",
       "      <td>2400</td>\n",
       "      <td>2400</td>\n",
       "      <td>36 months</td>\n",
       "      <td>15.96%</td>\n",
       "      <td>84.33</td>\n",
       "      <td>C</td>\n",
       "      <td>C5</td>\n",
       "      <td>10+ years</td>\n",
       "      <td>RENT</td>\n",
       "      <td>12252.0</td>\n",
       "      <td>...</td>\n",
       "      <td>0</td>\n",
       "      <td>2956</td>\n",
       "      <td>98.50%</td>\n",
       "      <td>10</td>\n",
       "      <td>3005.666844</td>\n",
       "      <td>2400.00</td>\n",
       "      <td>605.67</td>\n",
       "      <td>0.00</td>\n",
       "      <td>May-16</td>\n",
       "      <td>0.0</td>\n",
       "    </tr>\n",
       "    <tr>\n",
       "      <th>3</th>\n",
       "      <td>10000</td>\n",
       "      <td>10000</td>\n",
       "      <td>36 months</td>\n",
       "      <td>13.49%</td>\n",
       "      <td>339.31</td>\n",
       "      <td>C</td>\n",
       "      <td>C1</td>\n",
       "      <td>10+ years</td>\n",
       "      <td>RENT</td>\n",
       "      <td>49200.0</td>\n",
       "      <td>...</td>\n",
       "      <td>0</td>\n",
       "      <td>5598</td>\n",
       "      <td>21%</td>\n",
       "      <td>37</td>\n",
       "      <td>12231.890000</td>\n",
       "      <td>10000.00</td>\n",
       "      <td>2214.92</td>\n",
       "      <td>16.97</td>\n",
       "      <td>Apr-16</td>\n",
       "      <td>0.0</td>\n",
       "    </tr>\n",
       "    <tr>\n",
       "      <th>5</th>\n",
       "      <td>5000</td>\n",
       "      <td>5000</td>\n",
       "      <td>36 months</td>\n",
       "      <td>7.90%</td>\n",
       "      <td>156.46</td>\n",
       "      <td>A</td>\n",
       "      <td>A4</td>\n",
       "      <td>3 years</td>\n",
       "      <td>RENT</td>\n",
       "      <td>36000.0</td>\n",
       "      <td>...</td>\n",
       "      <td>0</td>\n",
       "      <td>7963</td>\n",
       "      <td>28.30%</td>\n",
       "      <td>12</td>\n",
       "      <td>5632.210000</td>\n",
       "      <td>5000.00</td>\n",
       "      <td>632.21</td>\n",
       "      <td>0.00</td>\n",
       "      <td>Jan-16</td>\n",
       "      <td>0.0</td>\n",
       "    </tr>\n",
       "  </tbody>\n",
       "</table>\n",
       "<p>5 rows × 30 columns</p>\n",
       "</div>"
      ],
      "text/plain": [
       "   loan_amnt  funded_amnt        term int_rate  installment grade sub_grade  \\\n",
       "0       5000         5000   36 months   10.65%       162.87     B        B2   \n",
       "1       2500         2500   60 months   15.27%        59.83     C        C4   \n",
       "2       2400         2400   36 months   15.96%        84.33     C        C5   \n",
       "3      10000        10000   36 months   13.49%       339.31     C        C1   \n",
       "5       5000         5000   36 months    7.90%       156.46     A        A4   \n",
       "\n",
       "  emp_length home_ownership  annual_inc  ... pub_rec revol_bal revol_util  \\\n",
       "0  10+ years           RENT     24000.0  ...       0     13648     83.70%   \n",
       "1   < 1 year           RENT     30000.0  ...       0      1687      9.40%   \n",
       "2  10+ years           RENT     12252.0  ...       0      2956     98.50%   \n",
       "3  10+ years           RENT     49200.0  ...       0      5598        21%   \n",
       "5    3 years           RENT     36000.0  ...       0      7963     28.30%   \n",
       "\n",
       "  total_acc   total_pymnt  total_rec_prncp  total_rec_int total_rec_late_fee  \\\n",
       "0         9   5863.155187          5000.00         863.16               0.00   \n",
       "1         4   1008.710000           456.46         435.17               0.00   \n",
       "2        10   3005.666844          2400.00         605.67               0.00   \n",
       "3        37  12231.890000         10000.00        2214.92              16.97   \n",
       "5        12   5632.210000          5000.00         632.21               0.00   \n",
       "\n",
       "   last_credit_pull_d  pub_rec_bankruptcies  \n",
       "0              May-16                   0.0  \n",
       "1              Sep-13                   0.0  \n",
       "2              May-16                   0.0  \n",
       "3              Apr-16                   0.0  \n",
       "5              Jan-16                   0.0  \n",
       "\n",
       "[5 rows x 30 columns]"
      ]
     },
     "metadata": {},
     "output_type": "display_data"
    }
   ],
   "source": [
    "loans.head()"
   ]
  },
  {
   "cell_type": "code",
   "execution_count": null,
   "metadata": {},
   "outputs": [
    {
     "name": "stdout",
     "output_type": "stream",
     "text": [
      "<class 'pandas.core.frame.DataFrame'>\n",
      "Int64Index: 38525 entries, 0 to 39716\n",
      "Data columns (total 30 columns):\n",
      " #   Column                Non-Null Count  Dtype  \n",
      "---  ------                --------------  -----  \n",
      " 0   loan_amnt             38525 non-null  int64  \n",
      " 1   funded_amnt           38525 non-null  int64  \n",
      " 2   term                  38525 non-null  object \n",
      " 3   int_rate              38525 non-null  object \n",
      " 4   installment           38525 non-null  float64\n",
      " 5   grade                 38525 non-null  object \n",
      " 6   sub_grade             38525 non-null  object \n",
      " 7   emp_length            38525 non-null  object \n",
      " 8   home_ownership        38525 non-null  object \n",
      " 9   annual_inc            38525 non-null  float64\n",
      " 10  verification_status   38525 non-null  object \n",
      " 11  issue_d               38525 non-null  object \n",
      " 12  loan_status           38525 non-null  object \n",
      " 13  purpose               38525 non-null  object \n",
      " 14  addr_state            38525 non-null  object \n",
      " 15  dti                   38525 non-null  float64\n",
      " 16  delinq_2yrs           38525 non-null  int64  \n",
      " 17  earliest_cr_line      38525 non-null  object \n",
      " 18  inq_last_6mths        38525 non-null  int64  \n",
      " 19  open_acc              38525 non-null  int64  \n",
      " 20  pub_rec               38525 non-null  int64  \n",
      " 21  revol_bal             38525 non-null  int64  \n",
      " 22  revol_util            38525 non-null  object \n",
      " 23  total_acc             38525 non-null  int64  \n",
      " 24  total_pymnt           38525 non-null  float64\n",
      " 25  total_rec_prncp       38525 non-null  float64\n",
      " 26  total_rec_int         38525 non-null  float64\n",
      " 27  total_rec_late_fee    38525 non-null  float64\n",
      " 28  last_credit_pull_d    38525 non-null  object \n",
      " 29  pub_rec_bankruptcies  38525 non-null  float64\n",
      "dtypes: float64(8), int64(8), object(14)\n",
      "memory usage: 9.1+ MB\n"
     ]
    }
   ],
   "source": [
    "loans.info()"
   ]
  },
  {
   "attachments": {},
   "cell_type": "markdown",
   "metadata": {},
   "source": [
    "### Standardizing Data"
   ]
  },
  {
   "attachments": {},
   "cell_type": "markdown",
   "metadata": {},
   "source": [
    "int_rate and revol_util are having '%' symbol values and having data type of object. Let's remove % at the end and convert to float"
   ]
  },
  {
   "cell_type": "code",
   "execution_count": null,
   "metadata": {},
   "outputs": [],
   "source": [
    "#stripping '%' value\n",
    "loans['int_rate'] = loans['int_rate'].str.rstrip('%').astype('float')\n",
    "loans['revol_util'] = loans['revol_util'].str.rstrip('%').astype('float')"
   ]
  },
  {
   "attachments": {},
   "cell_type": "markdown",
   "metadata": {},
   "source": [
    "issue_d contains date values, let convert column data type to date."
   ]
  },
  {
   "cell_type": "code",
   "execution_count": null,
   "metadata": {},
   "outputs": [],
   "source": [
    "loans['issue_d'] = pd.to_datetime(loans['issue_d'], format='%b-%y')"
   ]
  },
  {
   "attachments": {},
   "cell_type": "markdown",
   "metadata": {},
   "source": [
    "For emp_length \n",
    "- < 1 year is assumed as 0\n",
    "- 10+ years is assumed as 10 "
   ]
  },
  {
   "cell_type": "code",
   "execution_count": null,
   "metadata": {},
   "outputs": [],
   "source": [
    "loans['emp_length'] = loans['emp_length'].apply(lambda x: 0 if \"<\" in x else (x.split('+')[0] if \"+\" in x else x.split()[0]))"
   ]
  },
  {
   "cell_type": "code",
   "execution_count": null,
   "metadata": {},
   "outputs": [],
   "source": []
  },
  {
   "cell_type": "code",
   "execution_count": null,
   "metadata": {},
   "outputs": [
    {
     "name": "stdout",
     "output_type": "stream",
     "text": [
      "<class 'pandas.core.frame.DataFrame'>\n",
      "Int64Index: 38525 entries, 0 to 39716\n",
      "Data columns (total 30 columns):\n",
      " #   Column                Non-Null Count  Dtype         \n",
      "---  ------                --------------  -----         \n",
      " 0   loan_amnt             38525 non-null  int64         \n",
      " 1   funded_amnt           38525 non-null  int64         \n",
      " 2   term                  38525 non-null  object        \n",
      " 3   int_rate              38525 non-null  float64       \n",
      " 4   installment           38525 non-null  float64       \n",
      " 5   grade                 38525 non-null  object        \n",
      " 6   sub_grade             38525 non-null  object        \n",
      " 7   emp_length            38525 non-null  object        \n",
      " 8   home_ownership        38525 non-null  object        \n",
      " 9   annual_inc            38525 non-null  float64       \n",
      " 10  verification_status   38525 non-null  object        \n",
      " 11  issue_d               38525 non-null  datetime64[ns]\n",
      " 12  loan_status           38525 non-null  object        \n",
      " 13  purpose               38525 non-null  object        \n",
      " 14  addr_state            38525 non-null  object        \n",
      " 15  dti                   38525 non-null  float64       \n",
      " 16  delinq_2yrs           38525 non-null  int64         \n",
      " 17  earliest_cr_line      38525 non-null  object        \n",
      " 18  inq_last_6mths        38525 non-null  int64         \n",
      " 19  open_acc              38525 non-null  int64         \n",
      " 20  pub_rec               38525 non-null  int64         \n",
      " 21  revol_bal             38525 non-null  int64         \n",
      " 22  revol_util            38525 non-null  float64       \n",
      " 23  total_acc             38525 non-null  int64         \n",
      " 24  total_pymnt           38525 non-null  float64       \n",
      " 25  total_rec_prncp       38525 non-null  float64       \n",
      " 26  total_rec_int         38525 non-null  float64       \n",
      " 27  total_rec_late_fee    38525 non-null  float64       \n",
      " 28  last_credit_pull_d    38525 non-null  object        \n",
      " 29  pub_rec_bankruptcies  38525 non-null  float64       \n",
      "dtypes: datetime64[ns](1), float64(10), int64(8), object(11)\n",
      "memory usage: 9.1+ MB\n"
     ]
    }
   ],
   "source": [
    "loans.info()"
   ]
  },
  {
   "cell_type": "code",
   "execution_count": null,
   "metadata": {},
   "outputs": [],
   "source": []
  },
  {
   "cell_type": "code",
   "execution_count": null,
   "metadata": {},
   "outputs": [],
   "source": []
  },
  {
   "attachments": {},
   "cell_type": "markdown",
   "metadata": {},
   "source": [
    "## Done till here"
   ]
  },
  {
   "cell_type": "code",
   "execution_count": null,
   "metadata": {},
   "outputs": [],
   "source": []
  },
  {
   "cell_type": "code",
   "execution_count": null,
   "metadata": {},
   "outputs": [],
   "source": []
  },
  {
   "attachments": {},
   "cell_type": "markdown",
   "metadata": {},
   "source": [
    "#### Remove outliers\n",
    "Columns to remove outliers on:\n",
    " - loan_amnt\n",
    "- funded_amnt\n",
    "- annual_inc"
   ]
  },
  {
   "cell_type": "code",
   "execution_count": null,
   "metadata": {},
   "outputs": [
    {
     "name": "stdout",
     "output_type": "stream",
     "text": [
      "Percentage of data removed:  10.23 %\n"
     ]
    }
   ],
   "source": [
    "raw_raw_count = len(raw_loans)\n",
    "def remove_outliers(df, column):\n",
    "    Q1 = df[column].quantile(0.25)\n",
    "    Q3 = df[column].quantile(0.75)\n",
    "    IQR = Q3 - Q1\n",
    "    filter = (df[column] >= Q1 - 1.5 * IQR) & (df[column] <= Q3 + 1.5 *IQR)\n",
    "    return df.loc[filter]\n",
    "\n",
    "# remove outliers\n",
    "loans = remove_outliers(loans, 'loan_amnt')\n",
    "loans = remove_outliers(loans, 'funded_amnt')\n",
    "loans = remove_outliers(loans, 'annual_inc')\n",
    "\n",
    "# calculate percentage of data removed\n",
    "print(\"Percentage of data removed: \", round((1 - len(loans)/raw_raw_count) * 100, 2), \"%\")"
   ]
  },
  {
   "attachments": {},
   "cell_type": "markdown",
   "metadata": {},
   "source": [
    "#### Add new columns\n",
    "- Add column for loan status (0 = not default, 100 = default)\n",
    "- Add column for loan term (0 = 36 months, 1 = 60 months)\n",
    "- Add column for loan grade (A-G)\n",
    "- Add column for loan subgrade (1-5)\n",
    "- Add column for loan home ownership (1-6)\n",
    "- Add column for loan verification status (1-3)\n",
    "\n",
    "- Add column for loan issue month (1-12)\n",
    "- Add column for loan issue year (2007-2015)\n",
    "\n",
    "- Add column for loan interest rate (0-30)\n",
    "\n",
    "- Add column for percent funded (0-100)\n",
    "- Add column for binning of percent funded (0-100)\n",
    "\n",
    "- Add column for percent funded by investors (0-100)\n",
    "- Add column for binning of percent funded by investors (0-100)"
   ]
  },
  {
   "cell_type": "code",
   "execution_count": null,
   "metadata": {},
   "outputs": [],
   "source": [
    "# add a new column to indicate if the loan is fully paid or not ( 0 - fully paid, 100 - defaulted)\n",
    "# defaulted is set to 100 to make it easier to calculate the percentage of loans that are defaulted\n",
    "loans['default'] = np.where(loans['loan_status'].isin(['Fully Paid']), 0, 100)\n",
    "\n",
    "loans['term_num'] = loans['term'].apply(lambda x: int(x.split()[0]))\n",
    "\n",
    "# convert issue_d to datetime\n",
    "# Added in Standardising Data Section & 'issue_month',  'issue_year' are not considered in the new refined data\n",
    "# loans['issue_d'] = pd.to_datetime(loans['issue_d'], format='%b-%y')\n",
    "# loans['issue_month'] = loans['issue_d'].dt.month\n",
    "# loans['issue_year'] = loans['issue_d'].dt.year\n",
    "\n",
    "# convert loan grade to numeric\n",
    "loans['grade_num'] = loans['grade'].map({'A': 1, 'B': 2, 'C': 3, 'D': 4, 'E': 5, 'F': 6, 'G': 7})\n",
    "\n",
    "# convert loan sub grade to numeric\n",
    "loans['sub_grade_num'] = loans['sub_grade'].map({'A1': 1, 'A2': 2, 'A3': 3, 'A4': 4, 'A5': 5,\n",
    "                                                    'B1': 6, 'B2': 7, 'B3': 8, 'B4': 9, 'B5': 10,\n",
    "                                                    'C1': 11, 'C2': 12, 'C3': 13, 'C4': 14, 'C5': 15,\n",
    "                                                    'D1': 16, 'D2': 17, 'D3': 18, 'D4': 19, 'D5': 20,\n",
    "                                                    'E1': 21, 'E2': 22, 'E3': 23, 'E4': 24, 'E5': 25,\n",
    "                                                    'F1': 26, 'F2': 27, 'F3': 28, 'F4': 29, 'F5': 30,\n",
    "                                                    'G1': 31, 'G2': 32, 'G3': 33, 'G4': 34, 'G5': 35})\n",
    "\n",
    "# Added in Standardising Data Section\n",
    "# convert emp_length to numeric\n",
    "# loans['emp_length_num'] = loans['emp_length'].map({'< 1 year': 0, '1 year': 1, '2 years': 2, '3 years': 3, '4 years': 4,\n",
    "#                                                     '5 years': 5, '6 years': 6, '7 years': 7, '8 years': 8, '9 years': 9,\n",
    "#                                                     '10+ years': 10})\n",
    "\n",
    "# Added in Standardising Data Section\n",
    "# convert int_rate to numeric\n",
    "# loans['int_rate_num'] = loans['int_rate'].str.rstrip('%').astype('float')\n",
    "\n",
    "# Added in Standardising Data Section\n",
    "# convert revol_util to numeric\n",
    "# loans['revol_util_num'] = loans['revol_util'].str.rstrip('%').astype('float')"
   ]
  },
  {
   "cell_type": "code",
   "execution_count": null,
   "metadata": {},
   "outputs": [
    {
     "ename": "KeyError",
     "evalue": "'int_rate_num'",
     "output_type": "error",
     "traceback": [
      "\u001b[1;31m---------------------------------------------------------------------------\u001b[0m\n",
      "\u001b[1;31mKeyError\u001b[0m                                  Traceback (most recent call last)\n",
      "File \u001b[1;32m~\\anaconda3\\lib\\site-packages\\pandas\\core\\indexes\\base.py:3802\u001b[0m, in \u001b[0;36mIndex.get_loc\u001b[1;34m(self, key, method, tolerance)\u001b[0m\n",
      "\u001b[0;32m   3801\u001b[0m \u001b[38;5;28;01mtry\u001b[39;00m:\n",
      "\u001b[1;32m-> 3802\u001b[0m     \u001b[38;5;28;01mreturn\u001b[39;00m \u001b[38;5;28;43mself\u001b[39;49m\u001b[38;5;241;43m.\u001b[39;49m\u001b[43m_engine\u001b[49m\u001b[38;5;241;43m.\u001b[39;49m\u001b[43mget_loc\u001b[49m\u001b[43m(\u001b[49m\u001b[43mcasted_key\u001b[49m\u001b[43m)\u001b[49m\n",
      "\u001b[0;32m   3803\u001b[0m \u001b[38;5;28;01mexcept\u001b[39;00m \u001b[38;5;167;01mKeyError\u001b[39;00m \u001b[38;5;28;01mas\u001b[39;00m err:\n",
      "\n",
      "File \u001b[1;32m~\\anaconda3\\lib\\site-packages\\pandas\\_libs\\index.pyx:138\u001b[0m, in \u001b[0;36mpandas._libs.index.IndexEngine.get_loc\u001b[1;34m()\u001b[0m\n",
      "\n",
      "File \u001b[1;32m~\\anaconda3\\lib\\site-packages\\pandas\\_libs\\index.pyx:165\u001b[0m, in \u001b[0;36mpandas._libs.index.IndexEngine.get_loc\u001b[1;34m()\u001b[0m\n",
      "\n",
      "File \u001b[1;32mpandas\\_libs\\hashtable_class_helper.pxi:5745\u001b[0m, in \u001b[0;36mpandas._libs.hashtable.PyObjectHashTable.get_item\u001b[1;34m()\u001b[0m\n",
      "\n",
      "File \u001b[1;32mpandas\\_libs\\hashtable_class_helper.pxi:5753\u001b[0m, in \u001b[0;36mpandas._libs.hashtable.PyObjectHashTable.get_item\u001b[1;34m()\u001b[0m\n",
      "\n",
      "\u001b[1;31mKeyError\u001b[0m: 'int_rate_num'\n",
      "\n",
      "The above exception was the direct cause of the following exception:\n",
      "\n",
      "\u001b[1;31mKeyError\u001b[0m                                  Traceback (most recent call last)\n",
      "Cell \u001b[1;32mIn[169], line 1\u001b[0m\n",
      "\u001b[1;32m----> 1\u001b[0m loans \u001b[38;5;241m=\u001b[39m \u001b[43mremove_outliers\u001b[49m\u001b[43m(\u001b[49m\u001b[43mloans\u001b[49m\u001b[43m,\u001b[49m\u001b[43m \u001b[49m\u001b[38;5;124;43m'\u001b[39;49m\u001b[38;5;124;43mint_rate_num\u001b[39;49m\u001b[38;5;124;43m'\u001b[39;49m\u001b[43m)\u001b[49m\n",
      "\n",
      "Cell \u001b[1;32mIn[167], line 3\u001b[0m, in \u001b[0;36mremove_outliers\u001b[1;34m(df, column)\u001b[0m\n",
      "\u001b[0;32m      2\u001b[0m \u001b[38;5;28;01mdef\u001b[39;00m \u001b[38;5;21mremove_outliers\u001b[39m(df, column):\n",
      "\u001b[1;32m----> 3\u001b[0m     Q1 \u001b[38;5;241m=\u001b[39m \u001b[43mdf\u001b[49m\u001b[43m[\u001b[49m\u001b[43mcolumn\u001b[49m\u001b[43m]\u001b[49m\u001b[38;5;241m.\u001b[39mquantile(\u001b[38;5;241m0.25\u001b[39m)\n",
      "\u001b[0;32m      4\u001b[0m     Q3 \u001b[38;5;241m=\u001b[39m df[column]\u001b[38;5;241m.\u001b[39mquantile(\u001b[38;5;241m0.75\u001b[39m)\n",
      "\u001b[0;32m      5\u001b[0m     IQR \u001b[38;5;241m=\u001b[39m Q3 \u001b[38;5;241m-\u001b[39m Q1\n",
      "\n",
      "File \u001b[1;32m~\\anaconda3\\lib\\site-packages\\pandas\\core\\frame.py:3807\u001b[0m, in \u001b[0;36mDataFrame.__getitem__\u001b[1;34m(self, key)\u001b[0m\n",
      "\u001b[0;32m   3805\u001b[0m \u001b[38;5;28;01mif\u001b[39;00m \u001b[38;5;28mself\u001b[39m\u001b[38;5;241m.\u001b[39mcolumns\u001b[38;5;241m.\u001b[39mnlevels \u001b[38;5;241m>\u001b[39m \u001b[38;5;241m1\u001b[39m:\n",
      "\u001b[0;32m   3806\u001b[0m     \u001b[38;5;28;01mreturn\u001b[39;00m \u001b[38;5;28mself\u001b[39m\u001b[38;5;241m.\u001b[39m_getitem_multilevel(key)\n",
      "\u001b[1;32m-> 3807\u001b[0m indexer \u001b[38;5;241m=\u001b[39m \u001b[38;5;28;43mself\u001b[39;49m\u001b[38;5;241;43m.\u001b[39;49m\u001b[43mcolumns\u001b[49m\u001b[38;5;241;43m.\u001b[39;49m\u001b[43mget_loc\u001b[49m\u001b[43m(\u001b[49m\u001b[43mkey\u001b[49m\u001b[43m)\u001b[49m\n",
      "\u001b[0;32m   3808\u001b[0m \u001b[38;5;28;01mif\u001b[39;00m is_integer(indexer):\n",
      "\u001b[0;32m   3809\u001b[0m     indexer \u001b[38;5;241m=\u001b[39m [indexer]\n",
      "\n",
      "File \u001b[1;32m~\\anaconda3\\lib\\site-packages\\pandas\\core\\indexes\\base.py:3804\u001b[0m, in \u001b[0;36mIndex.get_loc\u001b[1;34m(self, key, method, tolerance)\u001b[0m\n",
      "\u001b[0;32m   3802\u001b[0m     \u001b[38;5;28;01mreturn\u001b[39;00m \u001b[38;5;28mself\u001b[39m\u001b[38;5;241m.\u001b[39m_engine\u001b[38;5;241m.\u001b[39mget_loc(casted_key)\n",
      "\u001b[0;32m   3803\u001b[0m \u001b[38;5;28;01mexcept\u001b[39;00m \u001b[38;5;167;01mKeyError\u001b[39;00m \u001b[38;5;28;01mas\u001b[39;00m err:\n",
      "\u001b[1;32m-> 3804\u001b[0m     \u001b[38;5;28;01mraise\u001b[39;00m \u001b[38;5;167;01mKeyError\u001b[39;00m(key) \u001b[38;5;28;01mfrom\u001b[39;00m \u001b[38;5;21;01merr\u001b[39;00m\n",
      "\u001b[0;32m   3805\u001b[0m \u001b[38;5;28;01mexcept\u001b[39;00m \u001b[38;5;167;01mTypeError\u001b[39;00m:\n",
      "\u001b[0;32m   3806\u001b[0m     \u001b[38;5;66;03m# If we have a listlike key, _check_indexing_error will raise\u001b[39;00m\n",
      "\u001b[0;32m   3807\u001b[0m     \u001b[38;5;66;03m#  InvalidIndexError. Otherwise we fall through and re-raise\u001b[39;00m\n",
      "\u001b[0;32m   3808\u001b[0m     \u001b[38;5;66;03m#  the TypeError.\u001b[39;00m\n",
      "\u001b[0;32m   3809\u001b[0m     \u001b[38;5;28mself\u001b[39m\u001b[38;5;241m.\u001b[39m_check_indexing_error(key)\n",
      "\n",
      "\u001b[1;31mKeyError\u001b[0m: 'int_rate_num'"
     ]
    }
   ],
   "source": [
    "loans = remove_outliers(loans, 'int_rate_num')"
   ]
  },
  {
   "cell_type": "code",
   "execution_count": null,
   "metadata": {},
   "outputs": [],
   "source": [
    "import numpy_financial as npf\n",
    "\n",
    "def calc_interest_rate(row):\n",
    "    return (npf.rate(row['term_num'], row['installment'], -row['funded_amnt'], 0) * 12 * 100).round(2)\n",
    "\n",
    "loans['total_amount_to_pay'] = loans['installment'] * loans['term_num']\n",
    "loans['total_interest'] = loans['total_amount_to_pay'] - loans['funded_amnt']\n",
    "loans['total_loss'] = loans.apply(lambda x: (x['total_pymnt'] - x['total_amount_to_pay']) if x['default'] == 100 else 0, axis=1)\n",
    "loans['loss_percentage'] = (loans['total_loss'] / loans['total_amount_to_pay'] * 100).abs().round(2)\n",
    "\n",
    "loans['calc_interest_rate'] = loans.apply(calc_interest_rate, axis=1)"
   ]
  },
  {
   "attachments": {},
   "cell_type": "markdown",
   "metadata": {},
   "source": [
    "## High level information"
   ]
  },
  {
   "cell_type": "code",
   "execution_count": null,
   "metadata": {},
   "outputs": [],
   "source": [
    "# average default rate\n",
    "print(\"Average default rate: \", (loans['default'].mean()).round(1), \"%\")"
   ]
  },
  {
   "cell_type": "code",
   "execution_count": null,
   "metadata": {},
   "outputs": [],
   "source": [
    "# avg loss percentage for defaulted loans\n",
    "print(\"Average loss percentage for defaulted loans: \", (loans['loss_percentage'].mean()).round(2), '%')\n",
    "\n",
    "# total funded loan amount\n",
    "total_funded_amount = loans['funded_amnt'].sum()\n",
    "print(\"Total funded loan amount: \", f\"{total_funded_amount.round(0):,}\", \"$\")\n",
    "\n",
    "# total recovered amount\n",
    "total_recovered_amount = loans['total_pymnt'].sum()\n",
    "print(\"Total recovered amount: \", f\"{total_recovered_amount.round(0):,}\", \"$\")\n",
    "\n",
    "loans['profit'] = loans['total_pymnt'] - loans['funded_amnt']"
   ]
  },
  {
   "attachments": {},
   "cell_type": "markdown",
   "metadata": {},
   "source": [
    "# Understanding the data\n",
    "\n",
    "To confirm the understanding of the loan amount and interest rate, the following check is made:\n",
    "```\n",
    "Check if the calculated interest rate on total amount to pay (installment * term) is equal to the provided interest rate within a reasonable margin of error (0.1%)\n",
    "The margin of error could arise by different interest calculation methods, and rounding\n",
    "```\n",
    "\n",
    "only 10 rows seem to be not correct, this could happen due to mid term changes in interest rate or any other reason. The rows are removed from the dataset."
   ]
  },
  {
   "cell_type": "code",
   "execution_count": null,
   "metadata": {},
   "outputs": [],
   "source": [
    "# print rows where calc_interest_rate is not equal to int_rate within 0.1% tolerance\n",
    "print(\"Number of loans that are not within the tolerance\", len(loans[(loans['calc_interest_rate'] - loans['int_rate_num']).abs() > 0.1]))\n",
    "\n",
    "# drop rows where calc_interest_rate is not equal to int_rate within 0.1% tolerance\n",
    "loans = loans[(loans['calc_interest_rate'] - loans['int_rate_num']).abs() <= 0.1]"
   ]
  },
  {
   "cell_type": "code",
   "execution_count": null,
   "metadata": {},
   "outputs": [],
   "source": [
    "# show all columns with null values\n",
    "print(\"Columns with null values: \")\n",
    "print(loans.isnull().sum()[loans.isnull().sum() > 0])"
   ]
  },
  {
   "attachments": {},
   "cell_type": "markdown",
   "metadata": {},
   "source": [
    "# Data analysis\n",
    "Finding relation of default rate with different variables"
   ]
  },
  {
   "attachments": {},
   "cell_type": "markdown",
   "metadata": {},
   "source": [
    "### Default rate by year and months (inconclusive)"
   ]
  },
  {
   "cell_type": "code",
   "execution_count": null,
   "metadata": {},
   "outputs": [],
   "source": [
    "fig, (ax1, ax2) = plt.subplots(1, 2, figsize=(20, 6))\n",
    "# number of loans per year\n",
    "sns.countplot(x='issue_year', data=loans, ax=ax1)\n",
    "ax1.set_title('Number of loans per year')\n",
    "\n",
    "\n",
    "# draw line chart of defaulted loans percentage per year\n",
    "plt.figure(figsize=(12, 6))\n",
    "df = loans.groupby(['issue_year']).agg({'default': 'mean'}).reset_index()\n",
    "sns.lineplot(x='issue_year', y='default', data=df, ax=ax2)\n",
    "ax2.set_xticks(df['issue_year'])\n",
    "ax2.set_title('Default rate per year')\n",
    "\n",
    "plt.show()"
   ]
  },
  {
   "cell_type": "code",
   "execution_count": null,
   "metadata": {},
   "outputs": [],
   "source": [
    "# draw line chart of defaulted loans percentage per month\n",
    "plt.figure(figsize=(12, 6))\n",
    "df = loans.groupby(['issue_month']).agg({'default': 'mean'}).reset_index()\n",
    "sns.lineplot(x='issue_month', y='default', data=df)\n",
    "plt.xticks(df['issue_month'])\n",
    "plt.title('Default rate per month (all years)')\n",
    "plt.show()"
   ]
  },
  {
   "cell_type": "code",
   "execution_count": null,
   "metadata": {},
   "outputs": [],
   "source": [
    "# plot number of loans per month\n",
    "plt.figure(figsize=(12, 6))\n",
    "\n",
    "sns.countplot(x='issue_month', data=loans)\n",
    "plt.xticks(rotation=45)\n",
    "plt.title('Number of loans per month (all years)')\n",
    "plt.show()"
   ]
  },
  {
   "attachments": {},
   "cell_type": "markdown",
   "metadata": {},
   "source": [
    "### Default rate by grade and subgrade (not relevant)\n",
    "\n",
    "Grade is assigned by lending club based on the credit score of the borrower. The subgrade is a more granular classification of the grade. The default rate is higher for lower grades and subgrades.\n",
    "So interest rate is higher for lower grades and subgrades.\n",
    "\n",
    "Lending club is giving more loans to better grades."
   ]
  },
  {
   "cell_type": "code",
   "execution_count": null,
   "metadata": {},
   "outputs": [],
   "source": [
    "# plot number of loans per grade\n",
    "plt.figure(figsize=(20, 6))\n",
    "sns.countplot(x='grade', data=loans, order=sorted(loans['grade'].unique()))\n",
    "plt.title('Number of loans per grade')\n",
    "plt.show()"
   ]
  },
  {
   "cell_type": "code",
   "execution_count": null,
   "metadata": {},
   "outputs": [],
   "source": [
    "fig, (ax1, ax2) = plt.subplots(1, 2, figsize=(20, 6))\n",
    "\n",
    "# draw line chart of defaulted loans percentage per grade\n",
    "default_rate = loans.groupby(['grade']).agg({'default': 'mean'}).reset_index()\n",
    "sns.barplot(x='grade', y='default', data=default_rate, ax=ax1)\n",
    "ax1.set_title('Defaulted loans percentage per grade')\n",
    "\n",
    "# draw interest rate per grade\n",
    "interest_rate = loans.groupby(['grade']).agg({'int_rate_num': 'mean'}).reset_index()\n",
    "sns.barplot(x='grade', y='int_rate_num', data=interest_rate, ax=ax2)\n",
    "ax2.set_title('Interest rate per grade')\n",
    "\n",
    "plt.show()"
   ]
  },
  {
   "cell_type": "code",
   "execution_count": null,
   "metadata": {},
   "outputs": [],
   "source": [
    "# plot default rate by sub grade\n",
    "plt.figure(figsize=(20, 6))\n",
    "default_rate_sub_grade = loans[['sub_grade', 'default']].copy()\n",
    "default_rate_sub_grade = default_rate_sub_grade.groupby(['sub_grade']).agg({'default': 'mean'}).reset_index()\n",
    "\n",
    "bar_plot = sns.barplot(x='sub_grade', y='default', data=default_rate_sub_grade)\n",
    "plt.title('Default rate by sub grade')\n",
    "plt.xlabel('Sub grade')\n",
    "plt.ylabel('Default rate')\n",
    "plt.show()"
   ]
  },
  {
   "attachments": {},
   "cell_type": "markdown",
   "metadata": {},
   "source": [
    "### Default rate by term size (huge impact)\n",
    "\n",
    "There are 2 term sizes 36 and 60 months. The default rate is higher for 60 months term size by 2 times, this also reflects in the interest rate.\n",
    "\n",
    "Although the number of loans given for 60 months term size is less than a quarter of the total loans, the default loans count is 40% of the total default loans.\n",
    "While the 60 month term loans constitute 30% of the total funds, the loss brought in by these loans is almost 60% of the total loss.\n",
    "\n",
    "This could be due to the fact that the borrower is more likely to default if the loan is longer, as the borrower is more likely to have a change in financial situation."
   ]
  },
  {
   "cell_type": "code",
   "execution_count": null,
   "metadata": {},
   "outputs": [],
   "source": [
    "fig, plots = plt.subplots(2, 2, figsize=(20, 12))\n",
    "\n",
    "# draw pie chart of number of loans by term\n",
    "term = loans.groupby(['term']).agg({'id': 'count'}).reset_index()\n",
    "plots[0, 0].pie(term['id'], labels=term['term'], autopct='%1.1f%%', startangle=90)\n",
    "plots[0, 0].set_title('Number of loans by term')\n",
    "\n",
    "# draw pie chart of number of defaulted loans by term\n",
    "defaulted_loans = loans[loans['default'] != 0]\n",
    "defaulted_loans = defaulted_loans.groupby(['term']).agg({'id': 'count'}).reset_index()\n",
    "plots[0, 1].pie(defaulted_loans['id'], labels=defaulted_loans['term'], autopct='%1.1f%%', startangle=90)\n",
    "plots[0, 1].set_title('Number of defaulted loans by term')\n",
    "\n",
    "# total amount funded by term\n",
    "total_amount_funded = loans.groupby(['term']).agg({'funded_amnt': 'sum'}).reset_index()\n",
    "plots[1, 0].pie(total_amount_funded['funded_amnt'], labels=total_amount_funded['term'], autopct='%1.1f%%', startangle=90)\n",
    "plots[1, 0].set_title('Total amount funded by term')\n",
    "\n",
    "# total loss by term\n",
    "total_loss = loans.groupby(['term']).agg({'total_loss': 'sum'}).reset_index()\n",
    "total_loss['total_loss'] = total_loss['total_loss'].abs()\n",
    "plots[1, 1].pie(total_loss['total_loss'], labels=total_loss['term'], autopct='%1.1f%%', startangle=90)\n",
    "plots[1, 1].set_title('Total loss by term')\n",
    "\n",
    "plt.show()"
   ]
  },
  {
   "cell_type": "code",
   "execution_count": null,
   "metadata": {},
   "outputs": [],
   "source": [
    "fig, (ax1, ax2) = plt.subplots(1, 2, figsize=(20, 6))\n",
    "\n",
    "# plot default rate by term\n",
    "default_rate = loans.groupby(['term']).agg({'default': 'mean'}).reset_index()\n",
    "sns.barplot(x='term', y='default', data=default_rate, ax=ax1)\n",
    "\n",
    "# show values on top of bars\n",
    "for index, row in default_rate.iterrows():\n",
    "    ax1.text(row.name, row.default + 0.15, str(round(row.default, 2)) + '%', color='black', ha=\"center\")\n",
    "ax1.set_title('Default rate by term')\n",
    "\n",
    "# plot interest rate by term\n",
    "interest_rate = loans.groupby(['term']).agg({'int_rate_num': 'mean'}).reset_index()\n",
    "sns.barplot(x='term', y='int_rate_num', data=interest_rate, ax=ax2)\n",
    "\n",
    "# show values on top of bars\n",
    "for index, row in interest_rate.iterrows():\n",
    "    ax2.text(row.name, row.int_rate_num + 0.15, str(round(row.int_rate_num, 2)) + '%', color='black', ha=\"center\")\n",
    "ax2.set_title('Interest rate by term')\n",
    "\n",
    "plt.show()"
   ]
  },
  {
   "attachments": {},
   "cell_type": "markdown",
   "metadata": {},
   "source": [
    "### Default rate by purpose (some impact)\n",
    "\n",
    "Most of the loans on the platform are for debt consolidation.\n",
    "\n",
    "Small businesses, renewable energy and education have the highest default rate (15% - 20%)\n",
    "Car, credit card, major puchase and wedding have the lowest default rate (about 10%)"
   ]
  },
  {
   "cell_type": "code",
   "execution_count": null,
   "metadata": {},
   "outputs": [],
   "source": [
    "# plot pie chart of number of loans by purpose\n",
    "plt.figure(figsize=(20, 6))\n",
    "sns.countplot(x='purpose', data=loans, order=sorted(loans['purpose'].unique()))\n",
    "plt.title('Number of loans by purpose')\n",
    "plt.xticks(rotation=45)\n",
    "plt.show()"
   ]
  },
  {
   "cell_type": "code",
   "execution_count": null,
   "metadata": {},
   "outputs": [],
   "source": [
    "fig, (ax1, ax2) = plt.subplots(1, 2, figsize=(20, 6))\n",
    "\n",
    "# draw loan default percentage per purpose\n",
    "default_rate = loans.groupby(['purpose']).agg({'default': 'mean'}).reset_index()\n",
    "sns.barplot(x='purpose', y='default', data=default_rate, ax=ax1)\n",
    "\n",
    "# Get the minimum and maximum values\n",
    "min_val = default_rate['default'].min()\n",
    "max_val = default_rate['default'].max()\n",
    "\n",
    "# Set the limits of y-axis to be slightly beyond the min and max\n",
    "ax1.set_ylim(min_val - 0.1 * (max_val - min_val), max_val + 0.1 * (max_val - min_val))\n",
    "\n",
    "ax1.set_xticklabels(ax1.get_xticklabels(), rotation=90)\n",
    "ax1.set_title('Default rate per purpose')\n",
    "ax1.set_ylabel('Default rate')\n",
    "\n",
    "# draw interest rate per purpose\n",
    "interest_rate = loans.groupby(['purpose']).agg({'int_rate_num': 'mean'}).reset_index()\n",
    "sns.barplot(x='purpose', y='int_rate_num', data=interest_rate, ax=ax2)\n",
    "\n",
    "# Get the minimum and maximum values\n",
    "min_val = interest_rate['int_rate_num'].min()\n",
    "max_val = interest_rate['int_rate_num'].max()\n",
    "\n",
    "# Set the limits of y-axis to be slightly beyond the min and max\n",
    "ax2.set_ylim(min_val - 0.1 * (max_val - min_val), max_val + 0.1 * (max_val - min_val))\n",
    "\n",
    "ax2.set_xticklabels(ax2.get_xticklabels(), rotation=90)\n",
    "ax2.set_title('Interest rate per purpose')\n",
    "ax2.set_ylabel('Interest rate')\n",
    "\n",
    "plt.show()"
   ]
  },
  {
   "attachments": {},
   "cell_type": "markdown",
   "metadata": {},
   "source": [
    "### Default rate by home ownership (no impact)"
   ]
  },
  {
   "cell_type": "code",
   "execution_count": null,
   "metadata": {},
   "outputs": [],
   "source": [
    "print(loans['home_ownership'].value_counts())\n",
    "\n",
    "# ignore NONE and OTHERS as they are very few\n",
    "loans = loans[loans['home_ownership'] != 'NONE']\n",
    "loans = loans[loans['home_ownership'] != 'OTHER']\n",
    "\n",
    "# plot default rate by home ownership\n",
    "default_rate = loans.groupby(['home_ownership']).agg({'default': 'mean'}).reset_index()\n",
    "sns.barplot(x='home_ownership', y='default', data=default_rate)\n",
    "plt.title('Default rate by home ownership')\n",
    "plt.show()"
   ]
  },
  {
   "attachments": {},
   "cell_type": "markdown",
   "metadata": {},
   "source": [
    "### Default rate by income (good impact)\n",
    "\n",
    "Default rate is higher for lower income groups because they are more likely to default due to their financial situation."
   ]
  },
  {
   "cell_type": "code",
   "execution_count": null,
   "metadata": {},
   "outputs": [],
   "source": [
    "plt.figure(figsize=(20, 6))\n",
    "\n",
    "# Copy the DataFrame to avoid SettingWithCopyWarning\n",
    "default_rate_income = loans[['loan_status', 'annual_inc', 'default']].copy()\n",
    "\n",
    "# Define user-friendly bin edges\n",
    "bin_edges = range(0, int(default_rate_income['annual_inc'].max() + 10000), 10000)\n",
    "default_rate_income['income_bin'] = pd.cut(default_rate_income['annual_inc'], bins=bin_edges, include_lowest=True, right=False)\n",
    "\n",
    "default_rate_income = default_rate_income.groupby(['income_bin']).agg({'default': 'mean'}).reset_index()\n",
    "\n",
    "bar_plot = sns.barplot(x='income_bin', y='default', data=default_rate_income)\n",
    "\n",
    "# Get the minimum and maximum values from your data\n",
    "min_val = default_rate_income['default'].min()\n",
    "max_val = default_rate_income['default'].max()\n",
    "\n",
    "# Set the limits of y-axis to be slightly beyond the min and max\n",
    "bar_plot.set_ylim(min_val - 0.1 * (max_val - min_val), max_val + 0.1 * (max_val - min_val))\n",
    "\n",
    "bar_plot.set_xticklabels([f\"< {str(interval.right)} $\" for interval in default_rate_income['income_bin']], rotation=45)\n",
    "plt.xlabel('Annual Income')\n",
    "plt.ylabel('Default Rate')\n",
    "plt.title('Default rate by income bin')\n",
    "plt.show()"
   ]
  },
  {
   "attachments": {},
   "cell_type": "markdown",
   "metadata": {},
   "source": [
    "### Default rate by state (some impact)\n",
    "\n",
    "Lending club is heavily used in California, Texas, New York and Florida.\n",
    "\n",
    "Florida has the highest default rate (more than 17.5%) while Texas has the lowest default rate (less than 12%)\n",
    "\n",
    "But the interest rate is not higher for states with higher default rate."
   ]
  },
  {
   "cell_type": "code",
   "execution_count": null,
   "metadata": {},
   "outputs": [],
   "source": [
    "# plot number of loans by state\n",
    "plt.figure(figsize=(20, 6))\n",
    "\n",
    "loans_per_State = loans[['addr_state', 'default']].copy()\n",
    "\n",
    "# ignore states with less than 100 loans\n",
    "loans_per_State = loans_per_State.groupby(['addr_state']).filter(lambda x: len(x) > 500)\n",
    "\n",
    "sns.countplot(x='addr_state', data=loans_per_State, order=sorted(loans_per_State['addr_state'].unique()))\n",
    "plt.title('Number of loans by state')\n",
    "plt.show()"
   ]
  },
  {
   "cell_type": "code",
   "execution_count": null,
   "metadata": {},
   "outputs": [],
   "source": [
    "# show the default rate in each state\n",
    "plt.figure(figsize=(20, 6))\n",
    "\n",
    "loans_per_State = loans_per_State.groupby(['addr_state']).agg({'default': 'mean'}).reset_index()\n",
    "\n",
    "ax = sns.barplot(x='addr_state', y='default', data=loans_per_State)\n",
    "\n",
    "# Get the minimum and maximum values from your data\n",
    "min_val = loans_per_State['default'].min()\n",
    "max_val = loans_per_State['default'].max()\n",
    "\n",
    "# Set the limits of y-axis to be slightly beyond the min and max\n",
    "ax.set_ylim(min_val - 0.1 * (max_val - min_val), max_val + 0.1 * (max_val - min_val))\n",
    "\n",
    "plt.title('Default rate by state')\n",
    "plt.xlabel('State')\n",
    "plt.ylabel('Default rate')\n",
    "plt.show()"
   ]
  },
  {
   "cell_type": "code",
   "execution_count": null,
   "metadata": {},
   "outputs": [],
   "source": [
    "fig = px.choropleth(loans_per_State, locations='addr_state', color='default',\n",
    "                    locationmode='USA-states', scope=\"usa\",\n",
    "                    title='Defaulters rate by State',\n",
    "                    color_continuous_scale=px.colors.sequential.Reds,\n",
    "                    labels={'percentage': 'Percentage of Defaulters'},\n",
    "                    )\n",
    "fig.update_layout(margin={\"r\": 0, \"t\": 50, \"l\": 0, \"b\": 10})\n",
    "fig.show()"
   ]
  },
  {
   "cell_type": "code",
   "execution_count": null,
   "metadata": {},
   "outputs": [],
   "source": [
    "# interest rate by state\n",
    "plt.figure(figsize=(20, 6))\n",
    "\n",
    "loans_per_State = loans[['addr_state', 'int_rate_num']].copy()\n",
    "\n",
    "# ignore states with less than 500 loans\n",
    "loans_per_State = loans_per_State.groupby(['addr_state']).filter(lambda x: len(x) > 500)\n",
    "\n",
    "sns.barplot(x='addr_state', y='int_rate_num', data=loans_per_State, errorbar=None)\n",
    "\n",
    "plt.title('Interest rate by state')\n",
    "plt.xlabel('State')\n",
    "plt.ylabel('Interest rate')\n",
    "plt.show()"
   ]
  },
  {
   "attachments": {},
   "cell_type": "markdown",
   "metadata": {},
   "source": [
    "### Default rate by public records (good impact)\n",
    "\n",
    "Loans given to borrowers with public records have a much higher default rate."
   ]
  },
  {
   "cell_type": "code",
   "execution_count": null,
   "metadata": {},
   "outputs": [],
   "source": [
    "print(loans['pub_rec_bankruptcies'].value_counts())\n",
    "\n",
    "# ignore 2 public recorded bankruptcies as they are very few\n",
    "loans = loans[loans['pub_rec_bankruptcies'] != 2]\n",
    "\n",
    "# draw default by pub_rec_bankruptcies\n",
    "plt.figure(figsize=(20, 6))\n",
    "default_rate = loans.groupby(['pub_rec_bankruptcies']).agg({'default': 'mean'}).reset_index()\n",
    "sns.barplot(x='pub_rec_bankruptcies', y='default', data=default_rate)\n",
    "plt.title('Default rate by public recorded bankruptcies')\n",
    "plt.xlabel('public recorded bankruptcies')\n",
    "plt.ylabel('Default rate')\n",
    "plt.show()\n"
   ]
  },
  {
   "attachments": {},
   "cell_type": "markdown",
   "metadata": {},
   "source": [
    "### Default rate by interest rate (not relevant)"
   ]
  },
  {
   "cell_type": "code",
   "execution_count": null,
   "metadata": {},
   "outputs": [],
   "source": [
    "# draw default by binned interest rate\n",
    "plt.figure(figsize=(20, 6))\n",
    "default_rate_interest = loans[['int_rate_num', 'default']].copy()\n",
    "# bin interest rate using intervals of 1% on column 'int_rate_num'\n",
    "bin_edges = range(int(default_rate_interest['int_rate_num'].min()), int(default_rate_interest['int_rate_num'].max() + 1), 1)\n",
    "default_rate_interest['int_rate_bin'] = pd.cut(default_rate_interest['int_rate_num'], bins=bin_edges, include_lowest=True, right=False)\n",
    "default_rate_interest = default_rate_interest.groupby(['int_rate_bin']).agg({'default': 'mean'}).reset_index()\n",
    "\n",
    "bar_plot = sns.barplot(x='int_rate_bin', y='default', data=default_rate_interest)\n",
    "plt.title('Default rate by interest rate')\n",
    "plt.xlabel('Interest rate')\n",
    "bar_plot.set_xticklabels([f\"< {str(interval.right)} %\" for interval in default_rate_interest['int_rate_bin']])\n",
    "plt.ylabel('Default rate')\n",
    "plt.show()"
   ]
  },
  {
   "attachments": {},
   "cell_type": "markdown",
   "metadata": {},
   "source": [
    "### Default rate by loan amount (good impact)\n",
    "\n",
    "Default rate is higher for higher loan amounts."
   ]
  },
  {
   "cell_type": "code",
   "execution_count": null,
   "metadata": {},
   "outputs": [],
   "source": [
    "# plot number of loans by binned loan amount\n",
    "plt.figure(figsize=(20, 6))\n",
    "default_rate_loan_amount = loans[['loan_amnt', 'default']].copy()\n",
    "# bin loan amount using intervals of 2000 on column 'loan_amnt'\n",
    "bin_size = 5000\n",
    "bin_edges = range(int(default_rate_loan_amount['loan_amnt'].min()), int(default_rate_loan_amount['loan_amnt'].max() + bin_size), bin_size)\n",
    "default_rate_loan_amount['loan_amnt_bin'] = pd.cut(default_rate_loan_amount['loan_amnt'], bins=bin_edges, include_lowest=True, right=False)\n",
    "default_rate_loan_amount = default_rate_loan_amount.groupby(['loan_amnt_bin']).agg({'default': 'count'}).reset_index()\n",
    "\n",
    "bar_plot = sns.barplot(x='loan_amnt_bin', y='default', data=default_rate_loan_amount)\n",
    "\n",
    "# Get the minimum and maximum values from your data\n",
    "min_val = default_rate_loan_amount['default'].min()\n",
    "max_val = default_rate_loan_amount['default'].max()\n",
    "\n",
    "# Set the limits of y-axis to be slightly beyond the min and max\n",
    "bar_plot.set_ylim(min_val - 0.1 * (max_val - min_val), max_val + 0.1 * (max_val - min_val))\n",
    "\n",
    "plt.title('Number of loans by loan amount')\n",
    "plt.xlabel('Loan amount')\n",
    "bar_plot.set_xticklabels([f\"< {str(interval.right)} $\" for interval in default_rate_loan_amount['loan_amnt_bin']], rotation=45)\n",
    "plt.ylabel('Number of loans')\n",
    "plt.show()"
   ]
  },
  {
   "cell_type": "code",
   "execution_count": null,
   "metadata": {},
   "outputs": [],
   "source": [
    "# plot default rate by binned loan amount\n",
    "plt.figure(figsize=(20, 6))\n",
    "default_rate_loan_amount = loans[['loan_amnt', 'default']].copy()\n",
    "# bin loan amount using intervals of 2000 on column 'loan_amnt'\n",
    "bin_size = 5000\n",
    "bin_edges = range(int(default_rate_loan_amount['loan_amnt'].min()), int(default_rate_loan_amount['loan_amnt'].max() + bin_size), bin_size)\n",
    "\n",
    "default_rate_loan_amount['loan_amnt_bin'] = pd.cut(default_rate_loan_amount['loan_amnt'], bins=bin_edges, include_lowest=True, right=False)\n",
    "default_rate_loan_amount = default_rate_loan_amount.groupby(['loan_amnt_bin']).agg({'default': 'mean'}).reset_index()\n",
    "\n",
    "bar_plot = sns.barplot(x='loan_amnt_bin', y='default', data=default_rate_loan_amount)\n",
    "\n",
    "# Get the minimum and maximum values from your data\n",
    "min_val = default_rate_loan_amount['default'].min()\n",
    "max_val = default_rate_loan_amount['default'].max()\n",
    "\n",
    "# Set the limits of y-axis to be slightly beyond the min and max\n",
    "bar_plot.set_ylim(min_val - 0.1 * (max_val - min_val), max_val + 0.1 * (max_val - min_val))\n",
    "\n",
    "plt.title('Default rate by loan amount')\n",
    "plt.xlabel('Loan amount')\n",
    "bar_plot.set_xticklabels([f\"< {str(interval.right)} $\" for interval in default_rate_loan_amount['loan_amnt_bin']], rotation=45)\n",
    "plt.ylabel('Default rate')\n",
    "plt.show()"
   ]
  },
  {
   "attachments": {},
   "cell_type": "markdown",
   "metadata": {},
   "source": [
    "### Default rate by debt to income ratio (good impact)"
   ]
  },
  {
   "cell_type": "code",
   "execution_count": null,
   "metadata": {},
   "outputs": [],
   "source": [
    "# plot default rate by dti\n",
    "plt.figure(figsize=(20, 6))\n",
    "default_rate_dti = loans[['dti', 'default']].copy()\n",
    "\n",
    "# bin dti using intervals of 5 on column 'dti'\n",
    "bin_edges = range(int(default_rate_dti['dti'].min()), int(default_rate_dti['dti'].max() + 2), 2)\n",
    "default_rate_dti['dti_bin'] = pd.cut(default_rate_dti['dti'], bins=bin_edges, include_lowest=True, right=False)\n",
    "default_rate_dti = default_rate_dti.groupby(['dti_bin']).agg({'default': 'mean'}).reset_index()\n",
    "\n",
    "bar_plot = sns.barplot(x='dti_bin', y='default', data=default_rate_dti)\n",
    "\n",
    "# Get the minimum and maximum values from your data\n",
    "min_val = default_rate_dti['default'].min()\n",
    "max_val = default_rate_dti['default'].max()\n",
    "\n",
    "# Set the limits of y-axis to be slightly beyond the min and max\n",
    "bar_plot.set_ylim(min_val - 0.1 * (max_val - min_val), max_val + 0.1 * (max_val - min_val))\n",
    "\n",
    "plt.title('Default rate by debt to income ratio')\n",
    "plt.xlabel('Debt to income ratio')\n",
    "bar_plot.set_xticklabels([f\"< {str(interval.right)}\" for interval in default_rate_dti['dti_bin']])\n",
    "plt.ylabel('Default rate')\n",
    "plt.show()"
   ]
  },
  {
   "attachments": {},
   "cell_type": "markdown",
   "metadata": {},
   "source": [
    "### Default rate by employment length (no impact)\n",
    "\n",
    "Employment length has no impact on default rate."
   ]
  },
  {
   "cell_type": "code",
   "execution_count": null,
   "metadata": {},
   "outputs": [],
   "source": [
    "# plot default rate by emp_length_num\n",
    "plt.figure(figsize=(20, 6))\n",
    "default_rate_emp_length = loans[['emp_length_num', 'default']].copy()\n",
    "default_rate_emp_length = default_rate_emp_length.groupby(['emp_length_num']).agg({'default': 'mean'}).reset_index()\n",
    "\n",
    "bar_plot = sns.barplot(x='emp_length_num', y='default', data=default_rate_emp_length)\n",
    "plt.title('Default rate by employment length')\n",
    "plt.xlabel('Employment length')\n",
    "plt.ylabel('Default rate')\n",
    "plt.show()"
   ]
  },
  {
   "attachments": {},
   "cell_type": "markdown",
   "metadata": {},
   "source": [
    "### Default rate by verification status (no impact)\n",
    "\n",
    "Verification status of the lendee does not seem to have any impact on the default rate."
   ]
  },
  {
   "cell_type": "code",
   "execution_count": null,
   "metadata": {},
   "outputs": [],
   "source": [
    "# plot default rate by verification_status\n",
    "plt.figure(figsize=(20, 6))\n",
    "default_rate_verification_status = loans[['verification_status', 'default']].copy()\n",
    "default_rate_verification_status = default_rate_verification_status.groupby(['verification_status']).agg({'default': 'mean'}).reset_index()\n",
    "\n",
    "bar_plot = sns.barplot(x='verification_status', y='default', data=default_rate_verification_status)\n",
    "plt.title('Default rate by verification status')\n",
    "plt.xlabel('Verification status')\n",
    "plt.ylabel('Default rate')\n",
    "plt.show()"
   ]
  },
  {
   "attachments": {},
   "cell_type": "markdown",
   "metadata": {},
   "source": [
    "### Default rate by closed credit lines (good impact)\n",
    "\n",
    "Default rate reduces with increase in closed credit lines, mening that people with more closed credit lines are more likely to pay back the loan due to their richer credit history"
   ]
  },
  {
   "cell_type": "code",
   "execution_count": null,
   "metadata": {},
   "outputs": [],
   "source": [
    "# create new column closed_acc\n",
    "loans['closed_acc'] = loans['total_acc'] - loans['open_acc']\n",
    "\n",
    "# plot default rate by binned closed credit lines\n",
    "plt.figure(figsize=(20, 6))\n",
    "default_rate_closed_acc = loans[['closed_acc', 'default']].copy()\n",
    "# remove outliers for closed_acc\n",
    "default_rate_closed_acc = default_rate_closed_acc[default_rate_closed_acc['closed_acc'] < 50]\n",
    "# bin closed_acc using intervals of 5 on column 'closed_acc'\n",
    "bin_size = 5\n",
    "bin_edges = range(int(default_rate_closed_acc['closed_acc'].min()), int(default_rate_closed_acc['closed_acc'].max() + bin_size), bin_size)\n",
    "default_rate_closed_acc['closed_acc_bin'] = pd.cut(default_rate_closed_acc['closed_acc'], bins=bin_edges, include_lowest=True, right=False)\n",
    "default_rate_closed_acc = default_rate_closed_acc.groupby(['closed_acc_bin']).agg({'default': 'mean'}).reset_index()\n",
    "\n",
    "bar_plot = sns.barplot(x='closed_acc_bin', y='default', data=default_rate_closed_acc)\n",
    "\n",
    "# Get the minimum and maximum values from your data\n",
    "min_val = default_rate_closed_acc['default'].min()\n",
    "max_val = default_rate_closed_acc['default'].max()\n",
    "\n",
    "# Set the limits of y-axis to be slightly beyond the min and max\n",
    "bar_plot.set_ylim(min_val - 0.1 * (max_val - min_val), max_val + 0.1 * (max_val - min_val))\n",
    "\n",
    "plt.title('Default rate by closed credit lines')\n",
    "plt.xlabel('Closed credit lines')\n",
    "bar_plot.set_xticklabels([f\"< {str(interval.right)}\" for interval in default_rate_closed_acc['closed_acc_bin']])\n",
    "plt.ylabel('Default rate')\n",
    "plt.show()"
   ]
  },
  {
   "attachments": {},
   "cell_type": "markdown",
   "metadata": {},
   "source": [
    "### Default rate by revolving credit utilization (huge impact)\n",
    "\n",
    "Default rate increases with increase in revolving credit utilization, meaning that people with higher credit utilization are more likely to default on the loan as they have much less margin for error\n",
    "\n",
    "Number of loans is almost evenly distributed across the credit utilization range"
   ]
  },
  {
   "cell_type": "code",
   "execution_count": null,
   "metadata": {},
   "outputs": [],
   "source": [
    "# plot default rate by binned revol_util_num\n",
    "plt.figure(figsize=(20, 6))\n",
    "default_rate_revol_util = loans[['revol_util_num', 'default']].copy()\n",
    "\n",
    "# bin revol_util_num using intervals of 10 on column 'revol_util_num'\n",
    "bin_size = 10\n",
    "bin_edges = range(int(default_rate_revol_util['revol_util_num'].min()), int(default_rate_revol_util['revol_util_num'].max() + bin_size), bin_size)\n",
    "default_rate_revol_util['revol_util_bin'] = pd.cut(default_rate_revol_util['revol_util_num'], bins=bin_edges, include_lowest=True, right=False)\n",
    "default_rate_revol_util = default_rate_revol_util.groupby(['revol_util_bin']).agg({'default': 'mean'}).reset_index()\n",
    "\n",
    "bar_plot = sns.barplot(x='revol_util_bin', y='default', data=default_rate_revol_util)\n",
    "plt.title('Default rate by revolving utilization')\n",
    "plt.xlabel('Revolving utilization')\n",
    "bar_plot.set_xticklabels([f\"< {str(interval.right)} %\" for interval in default_rate_revol_util['revol_util_bin']])\n",
    "plt.ylabel('Default rate')\n",
    "plt.show()"
   ]
  },
  {
   "cell_type": "code",
   "execution_count": null,
   "metadata": {},
   "outputs": [],
   "source": [
    "# plot number of loans by revol_util_num\n",
    "plt.figure(figsize=(20, 6))\n",
    "default_rate_revol_util = loans[['revol_util_num', 'default']].copy()\n",
    "# remove outliers for revol_util_num\n",
    "default_rate_revol_util = default_rate_revol_util[default_rate_revol_util['revol_util_num'] < 100]\n",
    "# bin revol_util_num using intervals of 10 on column 'revol_util_num'\n",
    "bin_size = 10\n",
    "bin_edges = range(int(default_rate_revol_util['revol_util_num'].min()), int(default_rate_revol_util['revol_util_num'].max() + bin_size), bin_size)\n",
    "default_rate_revol_util['revol_util_bin'] = pd.cut(default_rate_revol_util['revol_util_num'], bins=bin_edges, include_lowest=True, right=False)\n",
    "default_rate_revol_util = default_rate_revol_util.groupby(['revol_util_bin']).agg({'default': 'count'}).reset_index()\n",
    "\n",
    "bar_plot = sns.barplot(x='revol_util_bin', y='default', data=default_rate_revol_util)\n",
    "plt.title('Number of loans by revolving utilization')\n",
    "plt.xlabel('Revolving utilization')\n",
    "bar_plot.set_xticklabels([f\"< {str(interval.right)} %\" for interval in default_rate_revol_util['revol_util_bin']])\n",
    "plt.ylabel('Number of loans')\n",
    "plt.show()"
   ]
  },
  {
   "attachments": {},
   "cell_type": "markdown",
   "metadata": {},
   "source": [
    "### Default rate by number of inquiries (good impact)\n",
    "\n",
    "Default rate is much higher for people with more inquiries, this could be because they are looking for more loans and worsening their financial situation"
   ]
  },
  {
   "cell_type": "code",
   "execution_count": null,
   "metadata": {},
   "outputs": [],
   "source": [
    "# plot default rate by inq_last_6mths\n",
    "plt.figure(figsize=(20, 6))\n",
    "default_rate_inq_last_6mths = loans[['inq_last_6mths', 'default']].copy()\n",
    "\n",
    "print(loans['inq_last_6mths'].value_counts())\n",
    "\n",
    "# remove outliers for inq_last_6mths, for values greater than or equal to 4 as they are very few\n",
    "default_rate_inq_last_6mths = default_rate_inq_last_6mths[default_rate_inq_last_6mths['inq_last_6mths'] < 4]\n",
    "\n",
    "default_rate_inq_last_6mths = default_rate_inq_last_6mths.groupby(['inq_last_6mths']).agg({'default': 'mean'}).reset_index()\n",
    "\n",
    "bar_plot = sns.barplot(x='inq_last_6mths', y='default', data=default_rate_inq_last_6mths)\n",
    "\n",
    "# Get the minimum and maximum values from your data\n",
    "min_val = default_rate_inq_last_6mths['default'].min()\n",
    "max_val = default_rate_inq_last_6mths['default'].max()\n",
    "\n",
    "# Set the limits of y-axis to be slightly beyond the min and max\n",
    "bar_plot.set_ylim(min_val - 0.1 * (max_val - min_val), max_val + 0.1 * (max_val - min_val))\n",
    "\n",
    "plt.title('Default rate by inquiries in last 6 months')\n",
    "plt.xlabel('Inquiries in last 6 months')\n",
    "plt.ylabel('Default rate')\n",
    "plt.show()\n"
   ]
  },
  {
   "attachments": {},
   "cell_type": "markdown",
   "metadata": {},
   "source": [
    "### Default rate by delinquencies for past 2 years (good impact)\n",
    "\n",
    "Default rate increases with increase in delinquencies for past 2 years, meaning that people with more delinquencies are more likely to default on the loan as they have a history of not paying back their loans"
   ]
  },
  {
   "cell_type": "code",
   "execution_count": null,
   "metadata": {},
   "outputs": [],
   "source": [
    "# plot default rate by delinq_2yrs\n",
    "plt.figure(figsize=(20, 6))\n",
    "default_rate_delinq_2yrs = loans[['delinq_2yrs', 'default']].copy()\n",
    "\n",
    "print(default_rate_delinq_2yrs['delinq_2yrs'].value_counts())\n",
    "\n",
    "# for values greater than or equal to 3 as they are very few records, so remove them\n",
    "default_rate_delinq_2yrs = default_rate_delinq_2yrs[default_rate_delinq_2yrs['delinq_2yrs'] < 3]\n",
    "\n",
    "default_rate_delinq_2yrs = default_rate_delinq_2yrs.groupby(['delinq_2yrs']).agg({'default': 'mean'}).reset_index()\n",
    "\n",
    "bar_plot = sns.barplot(x='delinq_2yrs', y='default', data=default_rate_delinq_2yrs)\n",
    "\n",
    "# Get the minimum and maximum values from your data\n",
    "min_val = default_rate_delinq_2yrs['default'].min()\n",
    "max_val = default_rate_delinq_2yrs['default'].max()\n",
    "\n",
    "# Set the limits of y-axis to be slightly beyond the min and max\n",
    "bar_plot.set_ylim(min_val - 0.1 * (max_val - min_val), max_val + 0.1 * (max_val - min_val))\n",
    "\n",
    "plt.title('Default rate by delinquencies in last 2 years')\n",
    "plt.xlabel('Delinquencies in last 2 years')\n",
    "plt.ylabel('Default rate')\n",
    "plt.show()"
   ]
  }
 ],
 "metadata": {
  "kernelspec": {
   "display_name": "Python 3",
   "language": "python",
   "name": "python3"
  },
  "language_info": {
   "codemirror_mode": {
    "name": "ipython",
    "version": 3
   },
   "file_extension": ".py",
   "mimetype": "text/x-python",
   "name": "python",
   "nbconvert_exporter": "python",
   "pygments_lexer": "ipython3",
   "version": "3.10.7"
  },
  "orig_nbformat": 4
 },
 "nbformat": 4,
 "nbformat_minor": 2
}

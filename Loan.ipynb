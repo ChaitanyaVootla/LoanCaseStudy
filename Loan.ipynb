{
 "cells": [
  {
   "attachments": {},
   "cell_type": "markdown",
   "metadata": {},
   "source": [
    "# Initialisation & Setup"
   ]
  },
  {
   "attachments": {},
   "cell_type": "markdown",
   "metadata": {},
   "source": [
    "### Importing core libraries necessary for the case study"
   ]
  },
  {
   "cell_type": "code",
   "execution_count": null,
   "metadata": {},
   "outputs": [],
   "source": [
    "# Importing the necessary modules\n",
    "import numpy as np\n",
    "import pandas as pd\n",
    "import matplotlib.pyplot as plt\n",
    "import seaborn as sns\n",
    "import plotly.express as px\n",
    "\n",
    "\n",
    "# Using Seaborn's aesthetic theme\n",
    "sns.set_theme()"
   ]
  },
  {
   "attachments": {},
   "cell_type": "markdown",
   "metadata": {},
   "source": [
    "### Loading Data from CSV file"
   ]
  },
  {
   "cell_type": "code",
   "execution_count": null,
   "metadata": {},
   "outputs": [],
   "source": [
    "raw_loans = pd.read_csv('loan.csv', dtype={47:str}, low_memory=False)\n",
    "\n",
    "# number of rows and columns\n",
    "print(\"Number of rows: \", len(raw_loans))\n",
    "print(\"Number of Columns: \", len(raw_loans.columns))\n",
    "\n",
    "raw_loans.head()"
   ]
  },
  {
   "attachments": {},
   "cell_type": "markdown",
   "metadata": {},
   "source": [
    "# Data Cleaning & Manipulation"
   ]
  },
  {
   "attachments": {},
   "cell_type": "markdown",
   "metadata": {},
   "source": [
    "## Fixing Rows & Columns"
   ]
  },
  {
   "attachments": {},
   "cell_type": "markdown",
   "metadata": {},
   "source": [
    "### Row Clean Up\n",
    "> Removing loans that are still in progress ( 'loan_status' = 'Current' )"
   ]
  },
  {
   "cell_type": "code",
   "execution_count": null,
   "metadata": {},
   "outputs": [],
   "source": [
    "loans = raw_loans[raw_loans['loan_status'] != 'Current']\n",
    "loans.shape"
   ]
  },
  {
   "attachments": {},
   "cell_type": "markdown",
   "metadata": {},
   "source": [
    "### Columns Clean Up "
   ]
  },
  {
   "attachments": {},
   "cell_type": "markdown",
   "metadata": {},
   "source": [
    "#### Checking columns with NA or Null values"
   ]
  },
  {
   "cell_type": "code",
   "execution_count": null,
   "metadata": {},
   "outputs": [],
   "source": [
    "loans.columns[loans.isna().all()]"
   ]
  },
  {
   "cell_type": "code",
   "execution_count": null,
   "metadata": {},
   "outputs": [],
   "source": [
    "print(len(loans.columns[loans.isna().all()]), \"columns have NA values in all rows, these columns can be dropped\")"
   ]
  },
  {
   "attachments": {},
   "cell_type": "markdown",
   "metadata": {},
   "source": [
    "##### Dropping columns with all NA or Null values"
   ]
  },
  {
   "cell_type": "code",
   "execution_count": null,
   "metadata": {},
   "outputs": [],
   "source": [
    "loans = loans.dropna(axis=1, how='all')\n",
    "\n",
    "# Left with columns data\n",
    "print(\"Columns left: \", len(loans.columns))"
   ]
  },
  {
   "attachments": {},
   "cell_type": "markdown",
   "metadata": {},
   "source": [
    "#### Checking columns with constant values"
   ]
  },
  {
   "cell_type": "code",
   "execution_count": null,
   "metadata": {},
   "outputs": [],
   "source": [
    "loans.columns[loans.nunique() == 1]"
   ]
  },
  {
   "cell_type": "code",
   "execution_count": null,
   "metadata": {},
   "outputs": [],
   "source": [
    "unique_value_cols = loans.columns[loans.nunique() == 1]\n",
    "\n",
    "print(len(unique_value_cols), \"columns have only one unique value, these columns can be dropped as they do not provide any useful information\")"
   ]
  },
  {
   "attachments": {},
   "cell_type": "markdown",
   "metadata": {},
   "source": [
    "##### Dropping columns with all same values"
   ]
  },
  {
   "cell_type": "code",
   "execution_count": null,
   "metadata": {},
   "outputs": [],
   "source": [
    "loans = loans.drop(unique_value_cols, axis=1)\n",
    "\n",
    "# Left with columns data\n",
    "print(\"Columns left: \", len(loans.columns))"
   ]
  },
  {
   "attachments": {},
   "cell_type": "markdown",
   "metadata": {},
   "source": [
    "### Dropping Columns"
   ]
  },
  {
   "cell_type": "code",
   "execution_count": null,
   "metadata": {},
   "outputs": [],
   "source": [
    "loans.info()"
   ]
  },
  {
   "cell_type": "code",
   "execution_count": null,
   "metadata": {},
   "outputs": [],
   "source": [
    "loans.head()"
   ]
  },
  {
   "cell_type": "code",
   "execution_count": null,
   "metadata": {},
   "outputs": [],
   "source": [
    "for column in loans.columns:\n",
    "    unique_count = loans[column].nunique()\n",
    "    print(f\"{column} : {unique_count}\")"
   ]
  },
  {
   "attachments": {},
   "cell_type": "markdown",
   "metadata": {},
   "source": [
    "#### Now we have 45 columns out of which we have some columns not useful for the analysis\n",
    "Columns such as \n",
    "- 'desc', 'title', doesn't contribute to loan defaulting in any way. So excluding them from analysis.\n",
    "- 'id', 'member_id' consists of unique values, which means we don't have multiple loan applications for the same person. Since both pair of values in the columns represent the same person. So we can use any one of the column as an index. Hence dropping the later.\n",
    "- 'emp_title' has 28,027 unique values out of 38,577 total values. So it doesn't contribute usefully to the analysis. So dropping that.\n",
    "- 'mths_since_last_delinq', 'mnths_since_last_record' has >60% missing values, so dropping them.\n",
    "- 'collection_recovery_fee', 'last_pymnt_amnt', 'last_pymnt_d', 'recoveries', 'revol_bal', 'total_rec_prncp', 'total_rec_int', 'total_rec_late_fee', 'last_credit_pull_d', 'earliest_cr_line' refer to behavoural data of a customer post loan approval. The data is not available at the time of loan approval and thus cannot be used for analysis. Hence the said columns are dropped.\n",
    "- 'funded_amnt_inv', 'total_pymnt_inv' is useful for investors but doesn't contribute for analysing loan defaulter , so droping them.\n",
    "- 'url' is a static link with id as the attribute. It's a redundant column. Hence dropping that\n",
    "- Among 'zip_code', 'addr_state' any one of them can be used for analysis based on location, so dropping the former."
   ]
  },
  {
   "cell_type": "code",
   "execution_count": null,
   "metadata": {},
   "outputs": [],
   "source": [
    "loans = loans.drop(['member_id', 'url', 'desc', 'title', 'emp_title', \n",
    "                    'zip_code', 'mths_since_last_delinq', 'mths_since_last_record', \n",
    "                    'collection_recovery_fee', 'last_pymnt_amnt', 'last_pymnt_d', \n",
    "                    'recoveries', 'revol_bal', 'total_rec_prncp', 'total_rec_int', \n",
    "                    'total_rec_late_fee', 'last_credit_pull_d', 'earliest_cr_line', \n",
    "                    'funded_amnt_inv', 'total_pymnt_inv'], axis=1)\n",
    "loans.head()"
   ]
  },
  {
   "cell_type": "code",
   "execution_count": null,
   "metadata": {},
   "outputs": [],
   "source": [
    "loans.shape"
   ]
  },
  {
   "cell_type": "code",
   "execution_count": null,
   "metadata": {},
   "outputs": [],
   "source": [
    "loans.columns"
   ]
  },
  {
   "attachments": {},
   "cell_type": "markdown",
   "metadata": {},
   "source": [
    "### Checking for missing values"
   ]
  },
  {
   "cell_type": "code",
   "execution_count": null,
   "metadata": {},
   "outputs": [],
   "source": [
    "missing = (loans.isna().sum()/len(loans.index))*100\n",
    "missing[missing>0]"
   ]
  },
  {
   "cell_type": "code",
   "execution_count": null,
   "metadata": {},
   "outputs": [],
   "source": [
    "missing = loans.isna().sum()\n",
    "missing[missing>0]"
   ]
  },
  {
   "cell_type": "code",
   "execution_count": null,
   "metadata": {},
   "outputs": [],
   "source": [
    "loans['emp_length'].value_counts()"
   ]
  },
  {
   "attachments": {},
   "cell_type": "markdown",
   "metadata": {},
   "source": [
    "#### Handling Missing Values\n",
    "> Columns with missing values are 'emp_length', 'revol_util', 'pub_rec_bankruptcies' .\n",
    "<br>\n",
    "> Let's see what type of data each column has"
   ]
  },
  {
   "cell_type": "code",
   "execution_count": null,
   "metadata": {},
   "outputs": [],
   "source": [
    "loans[['emp_length', 'revol_util', 'pub_rec_bankruptcies']].info()"
   ]
  },
  {
   "attachments": {},
   "cell_type": "markdown",
   "metadata": {},
   "source": [
    "##### 'emp_length' :"
   ]
  },
  {
   "cell_type": "code",
   "execution_count": null,
   "metadata": {},
   "outputs": [],
   "source": [
    "print(\"Mode : \", loans['emp_length'].mode()[0])\n",
    "loans['emp_length'].value_counts()"
   ]
  },
  {
   "attachments": {},
   "cell_type": "markdown",
   "metadata": {},
   "source": [
    "> The above value counts shows that the mode value has higher frequency than that of the next most frequent value.\n",
    "<br>\n",
    "<br>\n",
    "> Since the missing values are in a very low percentage, imputing the missing values with the mode of the existing 'emp_length' values doesn't effect the analysis much, given the nature of the missing data.\n",
    "<br>\n",
    "> Hence assigning the mode to the null values in the column 'emp_length'"
   ]
  },
  {
   "cell_type": "code",
   "execution_count": null,
   "metadata": {},
   "outputs": [],
   "source": [
    "loans['emp_length'].fillna(loans['emp_length'].mode()[0], inplace = True)\n",
    "loans['emp_length'].isna().sum()"
   ]
  },
  {
   "cell_type": "code",
   "execution_count": null,
   "metadata": {},
   "outputs": [],
   "source": [
    "missing = (loans.isna().sum()/len(loans.index))*100\n",
    "missing[missing>0]"
   ]
  },
  {
   "attachments": {},
   "cell_type": "markdown",
   "metadata": {},
   "source": [
    "##### 'revol_util' :"
   ]
  },
  {
   "cell_type": "code",
   "execution_count": null,
   "metadata": {},
   "outputs": [],
   "source": [
    "# Standardising the values in 'revol_util' column\n",
    "loans['revol_util'] = loans['revol_util'].str.rstrip('%').astype('float')"
   ]
  },
  {
   "cell_type": "code",
   "execution_count": null,
   "metadata": {},
   "outputs": [],
   "source": [
    "loans['revol_util'].describe()"
   ]
  },
  {
   "cell_type": "code",
   "execution_count": null,
   "metadata": {},
   "outputs": [],
   "source": [
    "fig, (ax1, ax2) = plt.subplots(1, 2, figsize=(10, 4))\n",
    "\n",
    "# Plotting the displot on the first subplot\n",
    "sns.histplot(loans['revol_util'], ax=ax1)\n",
    "ax1.set_title('Distribution of \"revol_util\"')\n",
    "\n",
    "# Plotting the boxplot on the second subplot\n",
    "sns.boxplot(loans['revol_util'], ax=ax2)\n",
    "ax2.set_title('\"revol_util\" Whisker plot')\n",
    "\n",
    "plt.tight_layout()\n",
    "\n",
    "plt.show()"
   ]
  },
  {
   "attachments": {},
   "cell_type": "markdown",
   "metadata": {},
   "source": [
    "In order to preserve the overall distribution shape and minimize potential bias, imputing the missing values of 'revol_util' with the median value of the column."
   ]
  },
  {
   "cell_type": "code",
   "execution_count": null,
   "metadata": {},
   "outputs": [],
   "source": [
    "loans['revol_util'].fillna(loans['revol_util'].median(), inplace = True)\n",
    "loans['revol_util'].isna().sum()"
   ]
  },
  {
   "attachments": {},
   "cell_type": "markdown",
   "metadata": {},
   "source": [
    "##### 'pub_rec_bankruptcies' :\n",
    "> If borrowers with missing 'pub_rec_bankruptcies' values tend to have a higher likelihood of bankruptcy, imputing these missing values with, for example, mode, may underestimate the true number of bankruptcies in the dataset. This can lead to an inaccurate representation of the borrowers' creditworthiness.\n",
    "<br>\n",
    "\n",
    "> Considering the potential impact of imputation and the nature of missing data, it is appropriate to drop the rows with missing values in this column"
   ]
  },
  {
   "cell_type": "code",
   "execution_count": null,
   "metadata": {},
   "outputs": [],
   "source": [
    "loans = loans[~loans['pub_rec_bankruptcies'].isna()]\n",
    "loans['pub_rec_bankruptcies'].isna().sum()"
   ]
  },
  {
   "cell_type": "code",
   "execution_count": null,
   "metadata": {},
   "outputs": [],
   "source": [
    "missing = loans.isna().sum()\n",
    "print(\"Columns with missing values: \", missing[missing>0].count())"
   ]
  },
  {
   "cell_type": "code",
   "execution_count": null,
   "metadata": {},
   "outputs": [],
   "source": [
    "loans.head()"
   ]
  },
  {
   "cell_type": "code",
   "execution_count": null,
   "metadata": {},
   "outputs": [],
   "source": [
    "loans.info()"
   ]
  },
  {
   "attachments": {},
   "cell_type": "markdown",
   "metadata": {},
   "source": [
    "### Standardizing Data"
   ]
  },
  {
   "attachments": {},
   "cell_type": "markdown",
   "metadata": {},
   "source": [
    "int_rate have '%' symbol values and having data type of object. Let's remove % at the end and convert to float"
   ]
  },
  {
   "cell_type": "code",
   "execution_count": null,
   "metadata": {},
   "outputs": [],
   "source": [
    "#stripping '%' value\n",
    "loans['int_rate'] = loans['int_rate'].str.rstrip('%').astype('float')"
   ]
  },
  {
   "attachments": {},
   "cell_type": "markdown",
   "metadata": {},
   "source": [
    "issue_d contains date values, let's convert column data type to date."
   ]
  },
  {
   "cell_type": "code",
   "execution_count": null,
   "metadata": {},
   "outputs": [],
   "source": [
    "loans['issue_d'] = pd.to_datetime(loans['issue_d'], format='%b-%y')"
   ]
  },
  {
   "attachments": {},
   "cell_type": "markdown",
   "metadata": {},
   "source": [
    "For emp_length \n",
    "- < 1 year is assumed as 0\n",
    "- 10+ years is assumed as 10 "
   ]
  },
  {
   "cell_type": "code",
   "execution_count": null,
   "metadata": {},
   "outputs": [],
   "source": [
    "loans['emp_length'] = loans['emp_length'].apply( lambda x: 0 if \"<\" in x else ( int(x.split('+')[0]) if \"+\" in x else (int(x.split()[0])) ) )"
   ]
  },
  {
   "cell_type": "code",
   "execution_count": null,
   "metadata": {},
   "outputs": [],
   "source": [
    "loans.info()"
   ]
  },
  {
   "cell_type": "code",
   "execution_count": null,
   "metadata": {},
   "outputs": [],
   "source": [
    "loans['delinq_2yrs'].value_counts()"
   ]
  },
  {
   "attachments": {},
   "cell_type": "markdown",
   "metadata": {},
   "source": [
    "## Outlier Treatment\n"
   ]
  },
  {
   "attachments": {},
   "cell_type": "markdown",
   "metadata": {},
   "source": [
    "#### Outlier Removal Common Functions"
   ]
  },
  {
   "cell_type": "code",
   "execution_count": null,
   "metadata": {},
   "outputs": [],
   "source": [
    "def outlier_filter(df, column):\n",
    "    Q1 = df[column].quantile(0.25)\n",
    "    Q3 = df[column].quantile(0.75)\n",
    "    IQR = Q3 - Q1\n",
    "    upper_bound = Q3 + 1.5 *IQR\n",
    "    lower_bound = Q1 - 1.5 * IQR\n",
    "\n",
    "    filter = (df[column] >= lower_bound) & (df[column] <= upper_bound)\n",
    "\n",
    "    return filter\n",
    "\n",
    "# The function treat outliers, prints a box plot for each column under consideration\n",
    "# Plot 1 = Before outlier treatment\n",
    "# Plot 2 = Post outlier treatment\n",
    "# Also prints statistics of how many rows and percentage of rows dropped\n",
    "def outlier_comparison(df, column):\n",
    "\n",
    "    fig, (ax1, ax2) = plt.subplots(1, 2, figsize=(14, 3))\n",
    "\n",
    "    # box plot before dropping outliers\n",
    "    sns.boxplot(df[column], ax=ax1, orient=\"h\")\n",
    "    ax1.set_title(column + ' - Original')\n",
    "    \n",
    "    new_df = df[outlier_filter(df, column)]\n",
    "\n",
    "    # box plot after dropping outliers    \n",
    "    sns.boxplot(new_df[column], ax=ax2, orient=\"h\")\n",
    "    ax2.set_title(column + ' - Post Outlier Treatment')\n",
    "\n",
    "    # plt.tight_layout()\n",
    "    \n",
    "    plt.show()\n",
    "\n",
    "\n",
    "def remove_outliers(df, column):\n",
    "\n",
    "    old_rows = len(df)\n",
    "\n",
    "    # new_df = df[filter]\n",
    "\n",
    "    new_df = df[outlier_filter(df, column)]\n",
    "\n",
    "    new_rows = len(new_df)\n",
    "\n",
    "    print('Rows dropped: ', old_rows - new_rows)\n",
    "    print('Percentage rows dropped: ', round((old_rows - new_rows)/old_rows*100,2), \"%\")\n",
    "    \n",
    "    return new_df\n"
   ]
  },
  {
   "attachments": {},
   "cell_type": "markdown",
   "metadata": {},
   "source": [
    "#### Removing outliers\n",
    "Columns to remove outliers on:\n",
    " - loan_amnt\n",
    " - funded_amnt\n",
    " - annual_inc\n",
    " - int_rate\n",
    " - installment ?\n",
    "\n",
    "We will use the IQR method to remove outliers\n",
    "\n",
    "which means we will remove any values that are below Q1 - 1.5 * IQR or above Q3 + 1.5 * IQR, where IQR = Q3 - Q1"
   ]
  },
  {
   "cell_type": "code",
   "execution_count": null,
   "metadata": {},
   "outputs": [],
   "source": [
    "raw_raw_count = len(raw_loans)\n",
    "\n",
    "# list of columns for outlier treatment\n",
    "outlier_list = ['loan_amnt', 'int_rate', 'funded_amnt', 'annual_inc', 'installment']\n",
    "\n",
    "# show_box_plot(loans, column_list)\n",
    "for column in outlier_list:\n",
    "    outlier_comparison(loans, column)\n",
    "    loans = remove_outliers(loans, column)\n"
   ]
  },
  {
   "cell_type": "code",
   "execution_count": null,
   "metadata": {},
   "outputs": [],
   "source": [
    "# calculate percentage of data removed\n",
    "print(\"Percentage of data removed: \", round((1 - len(loans)/raw_raw_count) * 100, 2), \"%\")"
   ]
  },
  {
   "attachments": {},
   "cell_type": "markdown",
   "metadata": {},
   "source": [
    "## Derived Columns"
   ]
  },
  {
   "attachments": {},
   "cell_type": "markdown",
   "metadata": {},
   "source": [
    "#### Adding the following columns :\n",
    "- 'default' - for loan status (0 = not default, 100 = default)\n",
    "- 'term_num' - for loan term (0 = 36 months, 1 = 60 months)\n",
    "- 'grade_num' - for loan grade (A-G)\n",
    "- 'sub_grade_num' - for loan subgrade (1-5)\n",
    "- 'issue_month' - for loan issue month (1-12)\n",
    "- 'issue_year' - for loan issue year (2007-2015)\n",
    "- 'issue_quater' - for loan issue quarter (Q1-Q4)\n"
   ]
  },
  {
   "cell_type": "code",
   "execution_count": null,
   "metadata": {},
   "outputs": [],
   "source": [
    "# add a new column to indicate if the loan is fully paid or not ( 0 - fully paid, 100 - defaulted)\n",
    "# defaulted is set to 100 to make it easier to calculate the percentage of loans that are defaulted\n",
    "loans['default'] = np.where(loans['loan_status'].isin(['Fully Paid']), 0, 100)\n",
    "\n",
    "loans['term_num'] = loans['term'].apply(lambda x: int(x.split()[0]))\n",
    "\n",
    "\n",
    "loans['issue_month'] = loans['issue_d'].dt.month\n",
    "loans['issue_year'] = loans['issue_d'].dt.year\n",
    "loans['issue_quarter'] = loans['issue_d'].dt.to_period('Q').astype(str).str.replace('Q', 'Q-').str[4:]\n",
    "\n",
    "# convert loan grade to numeric\n",
    "loans['grade_num'] = loans['grade'].map({'A': 1, 'B': 2, 'C': 3, 'D': 4, 'E': 5, 'F': 6, 'G': 7})\n",
    "\n",
    "# convert loan sub grade to numeric\n",
    "loans['sub_grade_num'] = loans['sub_grade'].map({'A1': 1, 'A2': 2, 'A3': 3, 'A4': 4, 'A5': 5,\n",
    "                                                    'B1': 6, 'B2': 7, 'B3': 8, 'B4': 9, 'B5': 10,\n",
    "                                                    'C1': 11, 'C2': 12, 'C3': 13, 'C4': 14, 'C5': 15,\n",
    "                                                    'D1': 16, 'D2': 17, 'D3': 18, 'D4': 19, 'D5': 20,\n",
    "                                                    'E1': 21, 'E2': 22, 'E3': 23, 'E4': 24, 'E5': 25,\n",
    "                                                    'F1': 26, 'F2': 27, 'F3': 28, 'F4': 29, 'F5': 30,\n",
    "                                                    'G1': 31, 'G2': 32, 'G3': 33, 'G4': 34, 'G5': 35})"
   ]
  },
  {
   "cell_type": "code",
   "execution_count": null,
   "metadata": {},
   "outputs": [],
   "source": [
    "import numpy_financial as npf\n",
    "\n",
    "def calc_interest_rate(row):\n",
    "    return (npf.rate(row['term_num'], row['installment'], -row['funded_amnt'], 0) * 12 * 100).round(2)\n",
    "\n",
    "loans['total_amount_to_pay'] = loans['installment'] * loans['term_num']\n",
    "loans['total_loss'] = loans.apply(lambda x: (x['total_pymnt'] - x['total_amount_to_pay']) if x['default'] == 100 else 0, axis=1)\n",
    "loans['loss_percentage'] = (loans['total_loss'] / loans['total_amount_to_pay'] * 100).abs().round(2)\n",
    "\n",
    "loans['calc_interest_rate'] = loans.apply(calc_interest_rate, axis=1)"
   ]
  },
  {
   "attachments": {},
   "cell_type": "markdown",
   "metadata": {},
   "source": [
    "# Univariate Analysis\n",
    "\n",
    "To confirm the understanding of the loan amount and interest rate, the following check is made:\n",
    "```\n",
    "Check if the calculated interest rate on total amount to pay (installment * term) is equal to the provided interest rate within a reasonable margin of error (0.1%)\n",
    "The margin of error could arise by different interest calculation methods, and rounding\n",
    "```\n",
    "\n",
    "Only 9 rows seem to be not correct, this could happen due to mid term changes in interest rate or any other reason. The rows are removed from the dataset."
   ]
  },
  {
   "cell_type": "code",
   "execution_count": null,
   "metadata": {},
   "outputs": [],
   "source": [
    "# print rows where calc_interest_rate is not equal to int_rate within 0.1% tolerance\n",
    "print(\"Number of loans that are not within the tolerance\", len(loans[(loans['calc_interest_rate'] - loans['int_rate']).abs() > 0.1]))\n",
    "\n",
    "# drop rows where calc_interest_rate is not equal to int_rate within 0.1% tolerance\n",
    "loans = loans[(loans['calc_interest_rate'] - loans['int_rate']).abs() <= 0.1]"
   ]
  },
  {
   "cell_type": "code",
   "execution_count": null,
   "metadata": {},
   "outputs": [],
   "source": [
    "# avg loss percentage for defaulted loans\n",
    "print(\"Average loss percentage for defaulted loans: \", (loans['loss_percentage'].mean()).round(2), '%')\n",
    "\n",
    "# total funded loan amount\n",
    "total_funded_amount = loans['funded_amnt'].sum()\n",
    "print(\"Total funded loan amount: $\", f\"{total_funded_amount.round(0):,}\")\n",
    "\n",
    "# total recovered amount\n",
    "total_recovered_amount = loans['total_pymnt'].sum()\n",
    "print(\"Total recovered amount: $\", f\"{total_recovered_amount.round(0):,}\")"
   ]
  },
  {
   "cell_type": "code",
   "execution_count": null,
   "metadata": {},
   "outputs": [],
   "source": [
    "loans.columns"
   ]
  },
  {
   "attachments": {},
   "cell_type": "markdown",
   "metadata": {},
   "source": [
    "## Quantitative Variable Analysis"
   ]
  },
  {
   "cell_type": "code",
   "execution_count": null,
   "metadata": {},
   "outputs": [],
   "source": [
    "# Column metadata used by functions below\n",
    "column_titles = {\n",
    "    'delinq_2yrs': 'Delinquency in past 2 years',\n",
    "    'loan_amnt': 'Loan Amount',\n",
    "    'funded_amnt': 'Funded Amount',\n",
    "    'term': 'Loan Term',\n",
    "    'int_rate': 'Interest Rate',\n",
    "    'installment': 'Installment',\n",
    "    'grade': 'Grade',\n",
    "    'emp_length': 'Employment Length',\n",
    "    'home_ownership': 'Home Owner Status',\n",
    "    'annual_inc': 'Annual Income', \n",
    "    'verification_status': 'Verification Status',\n",
    "    'issue_d': 'Issue Date',\n",
    "    'loan_status': 'Loan Status',\n",
    "    'purpose': 'Purpose of Loan',\n",
    "    'addr_state': 'State',\n",
    "    'dti': 'Debt To Income Ratio',\n",
    "    'pub_rec_bankruptcies': 'Public Bankruptcies Record',\n",
    "    'issue_y': 'Issue Year',\n",
    "    'issue_m': 'Issue Month',\n",
    "    'issue_q': 'Issue Quarter'\n",
    "}"
   ]
  },
  {
   "attachments": {},
   "cell_type": "markdown",
   "metadata": {},
   "source": [
    "#### Common Functions"
   ]
  },
  {
   "cell_type": "code",
   "execution_count": null,
   "metadata": {},
   "outputs": [],
   "source": [
    "def univariate_analysis(df, column):\n",
    "    fig, (ax1, ax2) = plt.subplots(1,2, figsize=(16, 4))\n",
    "    ax1 = sns.histplot(df[column], kde=True, ax=ax1)\n",
    "    # g = sns.displot(df[column], kde=True, kind='hist')\n",
    "    sns.boxplot(x=column, data=df, ax=ax2)\n",
    "    # g.set_axis_labels(column_titles[column], \"Frequency\")\n",
    "    ax1.set_xlabel(column_titles[column])\n",
    "    ax2.set_xlabel(column_titles[column])\n",
    "    plt.tight_layout()\n",
    "    plt.show()"
   ]
  },
  {
   "attachments": {},
   "cell_type": "markdown",
   "metadata": {},
   "source": [
    "#### Loan Amount\n",
    "\n",
    "Majority of the loan_amnt is in the range \\$5000 and \\$14000, and the median amount is \\$9000."
   ]
  },
  {
   "cell_type": "code",
   "execution_count": null,
   "metadata": {},
   "outputs": [],
   "source": [
    "univariate_analysis(loans, 'loan_amnt')"
   ]
  },
  {
   "cell_type": "code",
   "execution_count": null,
   "metadata": {},
   "outputs": [],
   "source": [
    "loans['loan_amnt'].describe()"
   ]
  },
  {
   "attachments": {},
   "cell_type": "markdown",
   "metadata": {},
   "source": [
    "#### Funded Amount\n",
    "- Similar to loan_amnt, majority of the funded_amnt is also in the range \\$5000 and \\$14000, and the median amount is \\$8875.\n",
    "- Funded amount data behaves similar to loan Amount, which tells us that Lending club approved most of Applied loan amount."
   ]
  },
  {
   "cell_type": "code",
   "execution_count": null,
   "metadata": {},
   "outputs": [],
   "source": [
    "univariate_analysis(loans, 'funded_amnt')"
   ]
  },
  {
   "cell_type": "code",
   "execution_count": null,
   "metadata": {},
   "outputs": [],
   "source": [
    "# show percentiles for annual_inc\n",
    "print(\"Percentiles for funded amount: \")\n",
    "print(loans['funded_amnt'].describe(percentiles=[.01, .05, .1, .25, .5, .75, .9, .95, .99]))\n",
    "\n",
    "# show median for funded_amnt\n",
    "print(\"Median for funded amount: \", loans['funded_amnt'].median())"
   ]
  },
  {
   "attachments": {},
   "cell_type": "markdown",
   "metadata": {},
   "source": [
    "#### Annual Income\n",
    "\n",
    "Income of most borrowers is between \\$40,000 and \\$75,000. The median is \\$55,000."
   ]
  },
  {
   "cell_type": "code",
   "execution_count": null,
   "metadata": {},
   "outputs": [],
   "source": [
    "univariate_analysis(loans, 'annual_inc')"
   ]
  },
  {
   "cell_type": "code",
   "execution_count": null,
   "metadata": {},
   "outputs": [],
   "source": [
    "loans['annual_inc'].describe()"
   ]
  },
  {
   "cell_type": "code",
   "execution_count": null,
   "metadata": {},
   "outputs": [],
   "source": [
    "# show percentiles for annual_inc\n",
    "print(\"Percentiles for annual income: \")\n",
    "print(loans['annual_inc'].describe(percentiles=[.01, .05, .1, .25, .5, .75, .9, .95, .99]))\n",
    "\n",
    "# show median for annual_inc\n",
    "print(\"Median for annual income: \", loans['annual_inc'].median())"
   ]
  },
  {
   "attachments": {},
   "cell_type": "markdown",
   "metadata": {},
   "source": [
    "#### Interest Rate\n",
    "\n",
    "The interest rate is usually between 6% and 15%. The median is ~12%.\n",
    "\n",
    "There is a big spike for 7.5% as this could be the default interest rate for good loans usually in the market at that time.\n",
    "\n",
    "There is a gap between 8% and 10% which could mean there is a clear difference between the interest rate for good loans and non good loans."
   ]
  },
  {
   "cell_type": "code",
   "execution_count": null,
   "metadata": {},
   "outputs": [],
   "source": [
    "univariate_analysis(loans, 'int_rate')"
   ]
  },
  {
   "cell_type": "code",
   "execution_count": null,
   "metadata": {},
   "outputs": [],
   "source": [
    "loans['int_rate'].describe()"
   ]
  },
  {
   "cell_type": "code",
   "execution_count": null,
   "metadata": {},
   "outputs": [],
   "source": [
    "# show percentiles for int_rate\n",
    "print(\"Percentiles for interest rate: \")\n",
    "print(loans['int_rate'].describe(percentiles=[.01, .05, .1, .25, .5, .75, .9, .95, .99]))\n",
    "\n",
    "# show median for int_rate_num\n",
    "print(\"Median for interest rate: \", loans['int_rate'].median())"
   ]
  },
  {
   "attachments": {},
   "cell_type": "markdown",
   "metadata": {},
   "source": [
    "### Installment\n",
    "\n",
    "Majority of 'installment' amount is in the range of \\$150 - \\$400"
   ]
  },
  {
   "cell_type": "code",
   "execution_count": null,
   "metadata": {},
   "outputs": [],
   "source": [
    "univariate_analysis(loans, 'installment')"
   ]
  },
  {
   "cell_type": "code",
   "execution_count": null,
   "metadata": {},
   "outputs": [],
   "source": [
    "loans['installment'].describe()"
   ]
  },
  {
   "attachments": {},
   "cell_type": "markdown",
   "metadata": {},
   "source": [
    "### Debt-to-Income\n",
    "\n",
    "Majority of the debt to income ratio is in the range 8 to 19"
   ]
  },
  {
   "cell_type": "code",
   "execution_count": null,
   "metadata": {},
   "outputs": [],
   "source": [
    "univariate_analysis(loans, 'dti')"
   ]
  },
  {
   "cell_type": "code",
   "execution_count": null,
   "metadata": {},
   "outputs": [],
   "source": [
    "loans['dti'].describe()"
   ]
  },
  {
   "attachments": {},
   "cell_type": "markdown",
   "metadata": {},
   "source": [
    "# Unordered Categorical Variable Analysis"
   ]
  },
  {
   "attachments": {},
   "cell_type": "markdown",
   "metadata": {},
   "source": [
    "### Home Ownership\n",
    "Majority of the home owners are having their homes either in the form of RENT or MORTGAGE"
   ]
  },
  {
   "cell_type": "code",
   "execution_count": null,
   "metadata": {},
   "outputs": [],
   "source": [
    "loans['home_ownership'].value_counts().plot.bar()"
   ]
  },
  {
   "attachments": {},
   "cell_type": "markdown",
   "metadata": {},
   "source": [
    "### Purpose (some impact)\n",
    "\n",
    "Most of the loans on the platform are for debt consolidation."
   ]
  },
  {
   "cell_type": "code",
   "execution_count": null,
   "metadata": {},
   "outputs": [],
   "source": [
    "# plot pie chart of number of loans by purpose\n",
    "plt.figure(figsize=(20, 6))\n",
    "sns.countplot(x='purpose', data=loans, order=sorted(loans['purpose'].unique()))\n",
    "plt.title('Number of loans by purpose')\n",
    "plt.xticks(rotation=45)\n",
    "plt.show()"
   ]
  },
  {
   "attachments": {},
   "cell_type": "markdown",
   "metadata": {},
   "source": [
    "### State (addr_state) (some impact)\n",
    "\n",
    "Lending club is heavily used in California, New York, Texas and Florida."
   ]
  },
  {
   "cell_type": "code",
   "execution_count": null,
   "metadata": {},
   "outputs": [],
   "source": [
    "# plot number of loans by state\n",
    "plt.figure(figsize=(20, 6))\n",
    "\n",
    "loans_per_State = loans[['addr_state', 'default']].copy()\n",
    "\n",
    "# ignore states with less than 100 loans\n",
    "loans_per_State = loans_per_State.groupby(['addr_state']).filter(lambda x: len(x) > 500)\n",
    "\n",
    "sns.countplot(x='addr_state', data=loans_per_State, order=sorted(loans_per_State['addr_state'].unique()))\n",
    "plt.title('Number of loans by state')\n",
    "plt.show()"
   ]
  },
  {
   "attachments": {},
   "cell_type": "markdown",
   "metadata": {},
   "source": [
    "# Ordered Categorical Variable"
   ]
  },
  {
   "attachments": {},
   "cell_type": "markdown",
   "metadata": {},
   "source": [
    "### Grade\n",
    "\n",
    "Majority of the lending club falls under Grade-B"
   ]
  },
  {
   "cell_type": "code",
   "execution_count": null,
   "metadata": {},
   "outputs": [],
   "source": [
    "# plot number of loans per grade\n",
    "plt.figure(figsize=(20, 6))\n",
    "sns.countplot(x='grade', data=loans, order=sorted(loans['grade'].unique()))\n",
    "plt.title('Number of loans per grade')\n",
    "plt.show()"
   ]
  },
  {
   "attachments": {},
   "cell_type": "markdown",
   "metadata": {},
   "source": [
    "### Employement Length\n",
    "Majority of the employment length of the customers are of 10+ years."
   ]
  },
  {
   "cell_type": "code",
   "execution_count": null,
   "metadata": {},
   "outputs": [],
   "source": [
    "loans['emp_length'].value_counts().plot.bar()"
   ]
  },
  {
   "attachments": {},
   "cell_type": "markdown",
   "metadata": {},
   "source": [
    "### Term size\n",
    "Majority of the loan applications has taken the 36 month term plan."
   ]
  },
  {
   "cell_type": "code",
   "execution_count": null,
   "metadata": {},
   "outputs": [],
   "source": [
    "loans['term'].value_counts().plot.bar()"
   ]
  },
  {
   "attachments": {},
   "cell_type": "markdown",
   "metadata": {},
   "source": [
    "# Segmented Univariate Analysis"
   ]
  },
  {
   "attachments": {},
   "cell_type": "markdown",
   "metadata": {},
   "source": [
    "### Grade and subgrade (not relevant)\n",
    "\n",
    "Grade is assigned by lending club based on the credit score of the borrower. The subgrade is a more granular classification of the grade. The default rate is higher for lower grades and subgrades.\n",
    "So interest rate is higher for lower grades and subgrades.\n",
    "\n",
    "Lending club is giving more loans to better grades.\n",
    "\n",
    "Analysis on grades and subgrades is not a relevant driving factor as it is assigned by lending club itself based on the credit score of the borrower.\n",
    "\n",
    "Lending club is giving more loans to better grades. and default rates are increasing with lower grades, which means lending club is doing a good job in assigning grades."
   ]
  },
  {
   "cell_type": "code",
   "execution_count": null,
   "metadata": {},
   "outputs": [],
   "source": [
    "fig, (ax1, ax2) = plt.subplots(1, 2, figsize=(20, 6))\n",
    "\n",
    "# draw line chart of defaulted loans percentage per grade\n",
    "default_rate = loans.groupby(['grade']).agg({'default': 'mean'}).reset_index()\n",
    "sns.barplot(x='grade', y='default', data=default_rate, ax=ax1)\n",
    "ax1.set_title('Defaulted loans percentage per grade')\n",
    "\n",
    "# draw interest rate per grade\n",
    "interest_rate = loans.groupby(['grade']).agg({'int_rate': 'mean'}).reset_index()\n",
    "sns.barplot(x='grade', y='int_rate', data=interest_rate, ax=ax2)\n",
    "ax2.set_title('Interest rate per grade')\n",
    "\n",
    "plt.show()"
   ]
  },
  {
   "cell_type": "code",
   "execution_count": null,
   "metadata": {},
   "outputs": [],
   "source": [
    "# plot default rate by sub grade\n",
    "plt.figure(figsize=(20, 6))\n",
    "default_rate_sub_grade = loans[['sub_grade', 'default']].copy()\n",
    "default_rate_sub_grade = default_rate_sub_grade.groupby(['sub_grade']).agg({'default': 'mean'}).reset_index()\n",
    "\n",
    "bar_plot = sns.barplot(x='sub_grade', y='default', data=default_rate_sub_grade)\n",
    "plt.title('Default rate by sub grade')\n",
    "plt.xlabel('Sub grade')\n",
    "plt.ylabel('Default rate')\n",
    "plt.show()"
   ]
  },
  {
   "attachments": {},
   "cell_type": "markdown",
   "metadata": {},
   "source": [
    "### Term size (huge impact)\n",
    "\n",
    "There are 2 term sizes 36 and 60 months. The default rate is higher for 60 months term size by 2 times, this also reflects in the interest rate.\n",
    "\n",
    "Although the number of loans given for 60 months term size is less than a quarter of the total loans, the default loans count is 40% of the total default loans.\n",
    "While the 60 month term loans constitute 30% of the total funds, the loss brought in by these loans is almost 60% of the total loss.\n",
    "\n",
    "This could be due to the fact that the borrower is more likely to default if the loan is longer, as the borrower is more likely to have a change in financial situation."
   ]
  },
  {
   "cell_type": "code",
   "execution_count": null,
   "metadata": {},
   "outputs": [],
   "source": [
    "fig, plots = plt.subplots(2, 2, figsize=(20, 12))\n",
    "\n",
    "# draw pie chart of number of loans by term\n",
    "term = loans.groupby(['term']).agg({'id': 'count'}).reset_index()\n",
    "plots[0, 0].pie(term['id'], labels=term['term'], autopct='%1.1f%%', startangle=90)\n",
    "plots[0, 0].set_title('Number of loans by term')\n",
    "\n",
    "# draw pie chart of number of defaulted loans by term\n",
    "defaulted_loans = loans[loans['default'] != 0]\n",
    "defaulted_loans = defaulted_loans.groupby(['term']).agg({'id': 'count'}).reset_index()\n",
    "plots[0, 1].pie(defaulted_loans['id'], labels=defaulted_loans['term'], autopct='%1.1f%%', startangle=90)\n",
    "plots[0, 1].set_title('Number of defaulted loans by term')\n",
    "\n",
    "# total amount funded by term\n",
    "total_amount_funded = loans.groupby(['term']).agg({'funded_amnt': 'sum'}).reset_index()\n",
    "plots[1, 0].pie(total_amount_funded['funded_amnt'], labels=total_amount_funded['term'], autopct='%1.1f%%', startangle=90)\n",
    "plots[1, 0].set_title('Total amount funded by term')\n",
    "\n",
    "# total loss by term\n",
    "total_loss = loans.groupby(['term']).agg({'total_loss': 'sum'}).reset_index()\n",
    "total_loss['total_loss'] = total_loss['total_loss'].abs()\n",
    "plots[1, 1].pie(total_loss['total_loss'], labels=total_loss['term'], autopct='%1.1f%%', startangle=90)\n",
    "plots[1, 1].set_title('Total loss by term')\n",
    "\n",
    "plt.show()"
   ]
  },
  {
   "cell_type": "code",
   "execution_count": null,
   "metadata": {},
   "outputs": [],
   "source": [
    "fig, (ax1, ax2) = plt.subplots(1, 2, figsize=(20, 6))\n",
    "\n",
    "# plot default rate by term\n",
    "default_rate = loans.groupby(['term']).agg({'default': 'mean'}).reset_index()\n",
    "sns.barplot(x='term', y='default', data=default_rate, ax=ax1)\n",
    "\n",
    "# show values on top of bars\n",
    "for index, row in default_rate.iterrows():\n",
    "    ax1.text(row.name, row.default + 0.15, str(round(row.default, 2)) + '%', color='black', ha=\"center\")\n",
    "ax1.set_title('Default rate by term')\n",
    "\n",
    "# plot interest rate by term\n",
    "interest_rate = loans.groupby(['term']).agg({'int_rate': 'mean'}).reset_index()\n",
    "sns.barplot(x='term', y='int_rate', data=interest_rate, ax=ax2)\n",
    "\n",
    "# show values on top of bars\n",
    "for index, row in interest_rate.iterrows():\n",
    "    ax2.text(row.name, row.int_rate + 0.15, str(round(row.int_rate, 2)) + '%', color='black', ha=\"center\")\n",
    "ax2.set_title('Interest rate by term')\n",
    "\n",
    "plt.show()"
   ]
  },
  {
   "attachments": {},
   "cell_type": "markdown",
   "metadata": {},
   "source": [
    "### Purpose (some impact)\n",
    "\n",
    "Small businesses, renewable energy and education have the highest default rate (15% - 20%)\n",
    "Car, credit card, major puchase and wedding have the lowest default rate (about 10%)"
   ]
  },
  {
   "cell_type": "code",
   "execution_count": null,
   "metadata": {},
   "outputs": [],
   "source": [
    "fig, (ax1, ax2) = plt.subplots(1, 2, figsize=(20, 6))\n",
    "\n",
    "# draw loan default percentage per purpose\n",
    "default_rate = loans.groupby(['purpose']).agg({'default': 'mean'}).reset_index()\n",
    "sns.barplot(x='purpose', y='default', data=default_rate, ax=ax1)\n",
    "\n",
    "# Get the minimum and maximum values\n",
    "min_val = default_rate['default'].min()\n",
    "max_val = default_rate['default'].max()\n",
    "\n",
    "# Set the limits of y-axis to be slightly beyond the min and max\n",
    "ax1.set_ylim(min_val - 0.1 * (max_val - min_val), max_val + 0.1 * (max_val - min_val))\n",
    "\n",
    "ax1.set_xticklabels(ax1.get_xticklabels(), rotation=90)\n",
    "ax1.set_title('Default rate per purpose')\n",
    "ax1.set_ylabel('Default rate')\n",
    "\n",
    "# draw interest rate per purpose\n",
    "interest_rate = loans.groupby(['purpose']).agg({'int_rate': 'mean'}).reset_index()\n",
    "sns.barplot(x='purpose', y='int_rate', data=interest_rate, ax=ax2)\n",
    "\n",
    "# Get the minimum and maximum values\n",
    "min_val = interest_rate['int_rate'].min()\n",
    "max_val = interest_rate['int_rate'].max()\n",
    "\n",
    "# Set the limits of y-axis to be slightly beyond the min and max\n",
    "ax2.set_ylim(min_val - 0.1 * (max_val - min_val), max_val + 0.1 * (max_val - min_val))\n",
    "\n",
    "ax2.set_xticklabels(ax2.get_xticklabels(), rotation=90)\n",
    "ax2.set_title('Interest rate per purpose')\n",
    "ax2.set_ylabel('Interest rate')\n",
    "\n",
    "plt.show()"
   ]
  },
  {
   "attachments": {},
   "cell_type": "markdown",
   "metadata": {},
   "source": [
    "### Home ownership (no impact)"
   ]
  },
  {
   "cell_type": "code",
   "execution_count": null,
   "metadata": {},
   "outputs": [],
   "source": [
    "print(loans['home_ownership'].value_counts())\n",
    "\n",
    "# ignore NONE and OTHERS as they are very few\n",
    "# loans = loans[loans['home_ownership'] != 'NONE']\n",
    "loans = loans[loans['home_ownership'] != 'OTHER']\n",
    "\n",
    "# plot default rate by home ownership\n",
    "default_rate = loans.groupby(['home_ownership']).agg({'default': 'mean'}).reset_index()\n",
    "sns.barplot(x='home_ownership', y='default', data=default_rate)\n",
    "plt.title('Default rate by home ownership')\n",
    "plt.show()"
   ]
  },
  {
   "attachments": {},
   "cell_type": "markdown",
   "metadata": {},
   "source": [
    "### Annual Income of borrower (good impact)\n",
    "\n",
    "Default rate is higher for lower income groups because they are more likely to default due to their financial situation."
   ]
  },
  {
   "cell_type": "code",
   "execution_count": null,
   "metadata": {},
   "outputs": [],
   "source": [
    "plt.figure(figsize=(20, 6))\n",
    "\n",
    "# Copy the DataFrame to avoid SettingWithCopyWarning\n",
    "default_rate_income = loans[['loan_status', 'annual_inc', 'default']].copy()\n",
    "\n",
    "# Define user-friendly bin edges\n",
    "bin_edges = range(0, int(default_rate_income['annual_inc'].max() + 10000), 10000)\n",
    "default_rate_income['income_bin'] = pd.cut(default_rate_income['annual_inc'], bins=bin_edges, include_lowest=True, right=False)\n",
    "\n",
    "default_rate_income = default_rate_income.groupby(['income_bin']).agg({'default': 'mean'}).reset_index()\n",
    "\n",
    "bar_plot = sns.barplot(x='income_bin', y='default', data=default_rate_income)\n",
    "\n",
    "# Get the minimum and maximum values from your data\n",
    "min_val = default_rate_income['default'].min()\n",
    "max_val = default_rate_income['default'].max()\n",
    "\n",
    "# Set the limits of y-axis to be slightly beyond the min and max\n",
    "bar_plot.set_ylim(min_val - 0.1 * (max_val - min_val), max_val + 0.1 * (max_val - min_val))\n",
    "\n",
    "bar_plot.set_xticklabels([f\"< {str(interval.right)} $\" for interval in default_rate_income['income_bin']], rotation=45)\n",
    "plt.xlabel('Annual Income')\n",
    "plt.ylabel('Default Rate')\n",
    "plt.title('Default rate by income bin')\n",
    "plt.show()"
   ]
  },
  {
   "attachments": {},
   "cell_type": "markdown",
   "metadata": {},
   "source": [
    "# Derived Metrics Analysis"
   ]
  },
  {
   "attachments": {},
   "cell_type": "markdown",
   "metadata": {},
   "source": [
    "### Issue date (month and year)\n",
    "\n",
    "The number of loans issued has increased over the years. It has grown drastically almost doubling every year.\n",
    "\n",
    "The default rate is slightly higher for loans issued in the 4th quarter of the year. This could be due to the holiday season and people spending more money during this time.\n",
    "\n",
    "Having more commitments and making risky loans could be the reason for higher default rate."
   ]
  },
  {
   "cell_type": "code",
   "execution_count": null,
   "metadata": {},
   "outputs": [],
   "source": [
    "# plot number of loans per month\n",
    "plt.figure(figsize=(12, 5))\n",
    "\n",
    "sns.countplot(x='issue_month', data=loans)\n",
    "plt.xticks(rotation=45)\n",
    "plt.title('Number of loans per month (all years)')\n",
    "plt.show()"
   ]
  },
  {
   "cell_type": "code",
   "execution_count": null,
   "metadata": {},
   "outputs": [],
   "source": [
    "# draw line chart of defaulted loans percentage per quarter\n",
    "plt.figure(figsize=(20, 6))\n",
    "df = loans.groupby(['issue_quarter']).agg({'default': 'mean'}).reset_index()\n",
    "sns.barplot(x='issue_quarter', y='default', data=df)\n",
    "plt.xticks(rotation=45)\n",
    "plt.title('Default rate per quarter')\n",
    "plt.show()"
   ]
  },
  {
   "cell_type": "code",
   "execution_count": null,
   "metadata": {},
   "outputs": [],
   "source": [
    "fig, (ax1, ax2) = plt.subplots(1, 2, figsize=(20, 6))\n",
    "# number of loans per year\n",
    "sns.countplot(x='issue_year', data=loans, ax=ax1)\n",
    "ax1.set_title('Number of loans per year')\n",
    "\n",
    "\n",
    "# draw line chart of defaulted loans percentage per year\n",
    "plt.figure(figsize=(12, 6))\n",
    "df = loans.groupby(['issue_year']).agg({'default': 'mean'}).reset_index()\n",
    "sns.lineplot(x='issue_year', y='default', data=df, ax=ax2)\n",
    "ax2.set_xticks(df['issue_year'])\n",
    "ax2.set_title('Default rate per year')\n",
    "\n",
    "plt.show()"
   ]
  },
  {
   "attachments": {},
   "cell_type": "markdown",
   "metadata": {},
   "source": [
    "# Bivariate Analysis\n",
    "Finding relation of default rate with different variables"
   ]
  },
  {
   "attachments": {},
   "cell_type": "markdown",
   "metadata": {},
   "source": [
    "### State with default issue (some impact)\n",
    "\n",
    "Florida has the highest default rate (more than 17.5%) while Texas has the lowest default rate (less than 12%)\n",
    "\n",
    "But the interest rate is not higher for states with higher default rate."
   ]
  },
  {
   "cell_type": "code",
   "execution_count": null,
   "metadata": {},
   "outputs": [],
   "source": [
    "# show the default rate in each state\n",
    "plt.figure(figsize=(20, 6))\n",
    "\n",
    "loans_per_State = loans_per_State.groupby(['addr_state']).agg({'default': 'mean'}).reset_index()\n",
    "\n",
    "ax = sns.barplot(x='addr_state', y='default', data=loans_per_State)\n",
    "\n",
    "# Get the minimum and maximum values from your data\n",
    "min_val = loans_per_State['default'].min()\n",
    "max_val = loans_per_State['default'].max()\n",
    "\n",
    "# Set the limits of y-axis to be slightly beyond the min and max\n",
    "ax.set_ylim(min_val - 0.1 * (max_val - min_val), max_val + 0.1 * (max_val - min_val))\n",
    "\n",
    "plt.title('Default rate by state')\n",
    "plt.xlabel('State')\n",
    "plt.ylabel('Default rate')\n",
    "plt.show()"
   ]
  },
  {
   "cell_type": "code",
   "execution_count": null,
   "metadata": {},
   "outputs": [],
   "source": [
    "fig = px.choropleth(\n",
    "    loans_per_State, \n",
    "    locations='addr_state', \n",
    "    color='default',\n",
    "    locationmode='USA-states', \n",
    "    scope=\"usa\",\n",
    "    title='Defaulters rate by State',\n",
    "    color_continuous_scale=px.colors.sequential.Reds,\n",
    "    labels={'percentage': 'Percentage of Defaulters'},\n",
    ")\n",
    "fig.update_layout(margin={\"r\": 0, \"t\": 50, \"l\": 0, \"b\": 10})\n",
    "fig.show()"
   ]
  },
  {
   "cell_type": "code",
   "execution_count": 1797,
   "metadata": {},
   "outputs": [
    {
     "data": {
      "image/png": "[encoded data removed]",
      "text/plain": [
       "<Figure size 2000x600 with 1 Axes>"
      ]
     },
     "metadata": {},
     "output_type": "display_data"
    }
   ],
   "source": [
    "# interest rate by state\n",
    "plt.figure(figsize=(20, 6))\n",
    "\n",
    "loans_per_State = loans[['addr_state', 'int_rate']].copy()\n",
    "\n",
    "# ignore states with less than 500 loans\n",
    "loans_per_State = loans_per_State.groupby(['addr_state']).filter(lambda x: len(x) > 500)\n",
    "\n",
    "sns.barplot(x='addr_state', y='int_rate', data=loans_per_State, errorbar=None)\n",
    "\n",
    "plt.title('Interest rate by state')\n",
    "plt.xlabel('State')\n",
    "plt.ylabel('Interest rate')\n",
    "plt.show()"
   ]
  },
  {
   "attachments": {},
   "cell_type": "markdown",
   "metadata": {},
   "source": [
    "Check comments in the above & below-to-below cell and correct the values "
   ]
  },
  {
   "cell_type": "code",
   "execution_count": 1796,
   "metadata": {},
   "outputs": [
    {
     "data": {
      "image/png": "[encoded data removed]",
      "text/plain": [
       "<Figure size 3000x1500 with 1 Axes>"
      ]
     },
     "metadata": {},
     "output_type": "display_data"
    }
   ],
   "source": [
    "plt.figure(figsize=(30, 15))\n",
    "\n",
    "avg_int_rate_per_State = loans[['addr_state', 'int_rate']].copy()\n",
    "\n",
    "# ignore states with less than 500 loans\n",
    "avg_int_rate_per_State = avg_int_rate_per_State.groupby(['addr_state']).filter(lambda x: len(x) > 500)\n",
    "\n",
    "avg_int_rate_per_State = avg_int_rate_per_State.groupby(by='addr_state').mean()\n",
    "\n",
    "\n",
    "avg_default_rate_per_State = loans[['addr_state', 'default']].copy()\n",
    "\n",
    "# ignore states with less than 100 loans\n",
    "avg_default_rate_per_State = avg_default_rate_per_State.groupby(['addr_state']).filter(lambda x: len(x) > 500)\n",
    "\n",
    "avg_default_rate_per_State = avg_default_rate_per_State.groupby(by='addr_state').mean()\n",
    "\n",
    "avg_rate_data_per_State = avg_default_rate_per_State.merge(avg_int_rate_per_State, on='addr_state')\n",
    "\n",
    "new_data = avg_rate_data_per_State.stack().reset_index()\n",
    "new_data.columns = ['State Code', 'Rate Type', 'Percentage']\n",
    "new_data\n",
    "\n",
    "ax = sns.barplot(x='State Code', y='Percentage', hue='Rate Type', data=new_data)\n",
    "\n",
    "\n",
    "# Add percentages on each bar\n",
    "for p in ax.patches:\n",
    "    height = p.get_height()\n",
    "    ax.text(p.get_x() + p.get_width() / 2.,\n",
    "            height + 0.01,\n",
    "            '{:.1%}'.format(height/100),\n",
    "            ha=\"center\")\n",
    "\n",
    "# Set spacing between each double bar plot\n",
    "bar_width = 0.35\n",
    "total_bars = len(new_data['State Code'].unique())\n",
    "ax.set_xticks([x + bar_width / 2 + bar_width for x in range(total_bars)])\n",
    "ax.set_xticklabels(new_data['State Code'].unique())\n",
    "\n",
    "plt.xlabel('State Code')\n",
    "plt.ylabel('Percentage')\n",
    "plt.title('State-wise Default Rate and Interest Rate Comparison')\n",
    "\n",
    "plt.xticks(rotation=0)\n",
    "\n",
    "plt.legend(title='Rate Type', loc='upper right', labels=['Default Rate', 'Interest Rate'])\n",
    "\n",
    "\n",
    "plt.tight_layout()\n",
    "plt.show()"
   ]
  },
  {
   "attachments": {},
   "cell_type": "markdown",
   "metadata": {},
   "source": [
    "### Public records (good impact)\n",
    "\n",
    "Loans given to borrowers with public records have a much higher default rate."
   ]
  },
  {
   "cell_type": "code",
   "execution_count": null,
   "metadata": {},
   "outputs": [],
   "source": [
    "print(loans['pub_rec_bankruptcies'].value_counts())\n",
    "\n",
    "# ignore 2 public recorded bankruptcies as they are very few\n",
    "loans = loans[loans['pub_rec_bankruptcies'] != 2]\n",
    "\n",
    "# draw default by pub_rec_bankruptcies\n",
    "plt.figure(figsize=(20, 6))\n",
    "default_rate = loans.groupby(['pub_rec_bankruptcies']).agg({'default': 'mean'}).reset_index()\n",
    "sns.barplot(x='pub_rec_bankruptcies', y='default', data=default_rate)\n",
    "plt.title('Default rate by public recorded bankruptcies')\n",
    "plt.xlabel('public recorded bankruptcies')\n",
    "plt.ylabel('Default rate')\n",
    "plt.show()\n"
   ]
  },
  {
   "attachments": {},
   "cell_type": "markdown",
   "metadata": {},
   "source": [
    "### Interest rate (not relevant)\n",
    "\n",
    "Interest rates are abviously higher for higher risk loans. this is correlated and driven by grade and subgrade of the loan, and is not a relevant driving factor, as it is assigned by lending club itself based on the credit score of the borrower."
   ]
  },
  {
   "cell_type": "code",
   "execution_count": null,
   "metadata": {},
   "outputs": [],
   "source": [
    "# draw default by binned interest rate\n",
    "plt.figure(figsize=(20, 6))\n",
    "default_rate_interest = loans[['int_rate', 'default']].copy()\n",
    "# bin interest rate using intervals of 1% on column 'int_rate'\n",
    "bin_edges = range(int(default_rate_interest['int_rate'].min()), int(default_rate_interest['int_rate'].max() + 1), 1)\n",
    "default_rate_interest['int_rate_bin'] = pd.cut(default_rate_interest['int_rate'], bins=bin_edges, include_lowest=True, right=False)\n",
    "default_rate_interest = default_rate_interest.groupby(['int_rate_bin']).agg({'default': 'mean'}).reset_index()\n",
    "\n",
    "bar_plot = sns.barplot(x='int_rate_bin', y='default', data=default_rate_interest)\n",
    "plt.title('Default rate by interest rate')\n",
    "plt.xlabel('Interest rate')\n",
    "bar_plot.set_xticklabels([f\"< {str(interval.right)} %\" for interval in default_rate_interest['int_rate_bin']])\n",
    "plt.ylabel('Default rate')\n",
    "plt.show()"
   ]
  },
  {
   "attachments": {},
   "cell_type": "markdown",
   "metadata": {},
   "source": [
    "### Loan amount (good impact)\n",
    "\n",
    "Default rate is higher for higher loan amounts."
   ]
  },
  {
   "cell_type": "code",
   "execution_count": null,
   "metadata": {},
   "outputs": [],
   "source": [
    "# plot number of loans by binned loan amount\n",
    "plt.figure(figsize=(20, 6))\n",
    "default_rate_loan_amount = loans[['loan_amnt', 'default']].copy()\n",
    "# bin loan amount using intervals of 2000 on column 'loan_amnt'\n",
    "bin_size = 5000\n",
    "bin_edges = range(int(default_rate_loan_amount['loan_amnt'].min()), int(default_rate_loan_amount['loan_amnt'].max() + bin_size), bin_size)\n",
    "default_rate_loan_amount['loan_amnt_bin'] = pd.cut(default_rate_loan_amount['loan_amnt'], bins=bin_edges, include_lowest=True, right=False)\n",
    "default_rate_loan_amount = default_rate_loan_amount.groupby(['loan_amnt_bin']).agg({'default': 'count'}).reset_index()\n",
    "\n",
    "bar_plot = sns.barplot(x='loan_amnt_bin', y='default', data=default_rate_loan_amount)\n",
    "\n",
    "# Get the minimum and maximum values from your data\n",
    "min_val = default_rate_loan_amount['default'].min()\n",
    "max_val = default_rate_loan_amount['default'].max()\n",
    "\n",
    "# Set the limits of y-axis to be slightly beyond the min and max\n",
    "bar_plot.set_ylim(min_val - 0.1 * (max_val - min_val), max_val + 0.1 * (max_val - min_val))\n",
    "\n",
    "plt.title('Number of loans by loan amount')\n",
    "plt.xlabel('Loan amount')\n",
    "bar_plot.set_xticklabels([f\"< {str(interval.right)} $\" for interval in default_rate_loan_amount['loan_amnt_bin']], rotation=45)\n",
    "plt.ylabel('Number of loans')\n",
    "plt.show()"
   ]
  },
  {
   "cell_type": "code",
   "execution_count": null,
   "metadata": {},
   "outputs": [],
   "source": [
    "# plot default rate by binned loan amount\n",
    "plt.figure(figsize=(20, 6))\n",
    "default_rate_loan_amount = loans[['loan_amnt', 'default']].copy()\n",
    "# bin loan amount using intervals of 2000 on column 'loan_amnt'\n",
    "bin_size = 5000\n",
    "bin_edges = range(int(default_rate_loan_amount['loan_amnt'].min()), int(default_rate_loan_amount['loan_amnt'].max() + bin_size), bin_size)\n",
    "\n",
    "default_rate_loan_amount['loan_amnt_bin'] = pd.cut(default_rate_loan_amount['loan_amnt'], bins=bin_edges, include_lowest=True, right=False)\n",
    "default_rate_loan_amount = default_rate_loan_amount.groupby(['loan_amnt_bin']).agg({'default': 'mean'}).reset_index()\n",
    "\n",
    "bar_plot = sns.barplot(x='loan_amnt_bin', y='default', data=default_rate_loan_amount)\n",
    "\n",
    "# Get the minimum and maximum values from your data\n",
    "min_val = default_rate_loan_amount['default'].min()\n",
    "max_val = default_rate_loan_amount['default'].max()\n",
    "\n",
    "# Set the limits of y-axis to be slightly beyond the min and max\n",
    "bar_plot.set_ylim(min_val - 0.1 * (max_val - min_val), max_val + 0.1 * (max_val - min_val))\n",
    "\n",
    "plt.title('Default rate by loan amount')\n",
    "plt.xlabel('Loan amount')\n",
    "bar_plot.set_xticklabels([f\"< {str(interval.right)} $\" for interval in default_rate_loan_amount['loan_amnt_bin']], rotation=45)\n",
    "plt.ylabel('Default rate')\n",
    "plt.show()"
   ]
  },
  {
   "attachments": {},
   "cell_type": "markdown",
   "metadata": {},
   "source": [
    "### Debt to income ratio (good impact)\n",
    "\n",
    "Default rate is higher for higher debt to income ratio. debt to income ratio is the ratio of the borrower's total monthly debt payments to the borrower's monthly income.\n",
    "\n",
    "Higher the Debt to income ratio indicates the borrower is handling more debt than he can afford to pay."
   ]
  },
  {
   "cell_type": "code",
   "execution_count": null,
   "metadata": {},
   "outputs": [],
   "source": [
    "# plot default rate by dti\n",
    "plt.figure(figsize=(20, 6))\n",
    "default_rate_dti = loans[['dti', 'default']].copy()\n",
    "\n",
    "# bin dti using intervals of 5 on column 'dti'\n",
    "bin_edges = range(int(default_rate_dti['dti'].min()), int(default_rate_dti['dti'].max() + 2), 2)\n",
    "default_rate_dti['dti_bin'] = pd.cut(default_rate_dti['dti'], bins=bin_edges, include_lowest=True, right=False)\n",
    "default_rate_dti = default_rate_dti.groupby(['dti_bin']).agg({'default': 'mean'}).reset_index()\n",
    "\n",
    "bar_plot = sns.barplot(x='dti_bin', y='default', data=default_rate_dti)\n",
    "\n",
    "# Get the minimum and maximum values from your data\n",
    "min_val = default_rate_dti['default'].min()\n",
    "max_val = default_rate_dti['default'].max()\n",
    "\n",
    "# Set the limits of y-axis to be slightly beyond the min and max\n",
    "bar_plot.set_ylim(min_val - 0.1 * (max_val - min_val), max_val + 0.1 * (max_val - min_val))\n",
    "\n",
    "plt.title('Default rate by debt to income ratio')\n",
    "plt.xlabel('Debt to income ratio')\n",
    "bar_plot.set_xticklabels([f\"< {str(interval.right)}\" for interval in default_rate_dti['dti_bin']])\n",
    "plt.ylabel('Default rate')\n",
    "plt.show()"
   ]
  },
  {
   "attachments": {},
   "cell_type": "markdown",
   "metadata": {},
   "source": [
    "### Employment length of the borrower (no impact)\n",
    "\n",
    "Employment length has no impact on default rate."
   ]
  },
  {
   "cell_type": "code",
   "execution_count": null,
   "metadata": {},
   "outputs": [],
   "source": [
    "# plot default rate by emp_length\n",
    "plt.figure(figsize=(20, 6))\n",
    "default_rate_emp_length = loans[['emp_length', 'default']].copy()\n",
    "default_rate_emp_length = default_rate_emp_length.groupby(['emp_length']).agg({'default': 'mean'}).reset_index()\n",
    "\n",
    "bar_plot = sns.barplot(x='emp_length', y='default', data=default_rate_emp_length)\n",
    "plt.title('Default rate by employment length')\n",
    "plt.xlabel('Employment length')\n",
    "plt.ylabel('Default rate')\n",
    "plt.show()"
   ]
  },
  {
   "attachments": {},
   "cell_type": "markdown",
   "metadata": {},
   "source": [
    "### Verification status of borrower (no impact)\n",
    "\n",
    "Verification status of the lendee does not seem to have any impact on the default rate."
   ]
  },
  {
   "cell_type": "code",
   "execution_count": null,
   "metadata": {},
   "outputs": [],
   "source": [
    "# plot default rate by verification_status\n",
    "plt.figure(figsize=(20, 6))\n",
    "default_rate_verification_status = loans[['verification_status', 'default']].copy()\n",
    "default_rate_verification_status = default_rate_verification_status.groupby(['verification_status']).agg({'default': 'mean'}).reset_index()\n",
    "\n",
    "bar_plot = sns.barplot(x='verification_status', y='default', data=default_rate_verification_status)\n",
    "plt.title('Default rate by verification status')\n",
    "plt.xlabel('Verification status')\n",
    "plt.ylabel('Default rate')\n",
    "plt.show()"
   ]
  },
  {
   "attachments": {},
   "cell_type": "markdown",
   "metadata": {},
   "source": [
    "### Previously closed credit lines (good impact)\n",
    "\n",
    "Default rate reduces with increase in closed credit lines, meaning that people with more closed credit lines are more likely to pay back the loan due to their richer credit history"
   ]
  },
  {
   "cell_type": "code",
   "execution_count": null,
   "metadata": {},
   "outputs": [],
   "source": [
    "# create new column closed_acc\n",
    "loans['closed_acc'] = loans['total_acc'] - loans['open_acc']\n",
    "\n",
    "# plot default rate by binned closed credit lines\n",
    "plt.figure(figsize=(20, 6))\n",
    "default_rate_closed_acc = loans[['closed_acc', 'default']].copy()\n",
    "# remove outliers for closed_acc\n",
    "default_rate_closed_acc = default_rate_closed_acc[default_rate_closed_acc['closed_acc'] < 50]\n",
    "# bin closed_acc using intervals of 5 on column 'closed_acc'\n",
    "bin_size = 5\n",
    "bin_edges = range(int(default_rate_closed_acc['closed_acc'].min()), int(default_rate_closed_acc['closed_acc'].max() + bin_size), bin_size)\n",
    "default_rate_closed_acc['closed_acc_bin'] = pd.cut(default_rate_closed_acc['closed_acc'], bins=bin_edges, include_lowest=True, right=False)\n",
    "default_rate_closed_acc = default_rate_closed_acc.groupby(['closed_acc_bin']).agg({'default': 'mean'}).reset_index()\n",
    "\n",
    "bar_plot = sns.barplot(x='closed_acc_bin', y='default', data=default_rate_closed_acc)\n",
    "\n",
    "# Get the minimum and maximum values from your data\n",
    "min_val = default_rate_closed_acc['default'].min()\n",
    "max_val = default_rate_closed_acc['default'].max()\n",
    "\n",
    "# Set the limits of y-axis to be slightly beyond the min and max\n",
    "bar_plot.set_ylim(min_val - 0.1 * (max_val - min_val), max_val + 0.1 * (max_val - min_val))\n",
    "\n",
    "plt.title('Default rate by closed credit lines')\n",
    "plt.xlabel('Closed credit lines')\n",
    "bar_plot.set_xticklabels([f\"< {str(interval.right)}\" for interval in default_rate_closed_acc['closed_acc_bin']])\n",
    "plt.ylabel('Default rate')\n",
    "plt.show()"
   ]
  },
  {
   "attachments": {},
   "cell_type": "markdown",
   "metadata": {},
   "source": [
    "### Revolving credit utilization (huge impact)\n",
    "\n",
    "Default rate increases with increase in revolving credit utilization, meaning that people with higher credit utilization are more likely to default on the loan as they have much less margin for error\n",
    "\n",
    "Number of loans is almost evenly distributed across the credit utilization range which means that lending club is not taking this into account while giving loans."
   ]
  },
  {
   "cell_type": "code",
   "execution_count": null,
   "metadata": {},
   "outputs": [],
   "source": [
    "# plot default rate by binned revol_util\n",
    "plt.figure(figsize=(20, 6))\n",
    "default_rate_revol_util = loans[['revol_util', 'default']].copy()\n",
    "\n",
    "# bin revol_util using intervals of 10 on column 'revol_util'\n",
    "bin_size = 10\n",
    "bin_edges = range(int(default_rate_revol_util['revol_util'].min()), int(default_rate_revol_util['revol_util'].max() + bin_size), bin_size)\n",
    "default_rate_revol_util['revol_util_bin'] = pd.cut(default_rate_revol_util['revol_util'], bins=bin_edges, include_lowest=True, right=False)\n",
    "default_rate_revol_util = default_rate_revol_util.groupby(['revol_util_bin']).agg({'default': 'mean'}).reset_index()\n",
    "\n",
    "bar_plot = sns.barplot(x='revol_util_bin', y='default', data=default_rate_revol_util)\n",
    "plt.title('Default rate by revolving utilization')\n",
    "plt.xlabel('Revolving utilization')\n",
    "bar_plot.set_xticklabels([f\"< {str(interval.right)} %\" for interval in default_rate_revol_util['revol_util_bin']])\n",
    "plt.ylabel('Default rate')\n",
    "plt.show()"
   ]
  },
  {
   "cell_type": "code",
   "execution_count": null,
   "metadata": {},
   "outputs": [],
   "source": [
    "# plot number of loans by revol_util\n",
    "plt.figure(figsize=(20, 6))\n",
    "default_rate_revol_util = loans[['revol_util', 'default']].copy()\n",
    "# remove outliers for revol_util\n",
    "default_rate_revol_util = default_rate_revol_util[default_rate_revol_util['revol_util'] < 100]\n",
    "# bin revol_util using intervals of 10 on column 'revol_util'\n",
    "bin_size = 10\n",
    "bin_edges = range(int(default_rate_revol_util['revol_util'].min()), int(default_rate_revol_util['revol_util'].max() + bin_size), bin_size)\n",
    "default_rate_revol_util['revol_util_bin'] = pd.cut(default_rate_revol_util['revol_util'], bins=bin_edges, include_lowest=True, right=False)\n",
    "default_rate_revol_util = default_rate_revol_util.groupby(['revol_util_bin']).agg({'default': 'count'}).reset_index()\n",
    "\n",
    "bar_plot = sns.barplot(x='revol_util_bin', y='default', data=default_rate_revol_util)\n",
    "plt.title('Number of loans by revolving utilization')\n",
    "plt.xlabel('Revolving utilization')\n",
    "bar_plot.set_xticklabels([f\"< {str(interval.right)} %\" for interval in default_rate_revol_util['revol_util_bin']])\n",
    "plt.ylabel('Number of loans')\n",
    "plt.show()"
   ]
  },
  {
   "attachments": {},
   "cell_type": "markdown",
   "metadata": {},
   "source": [
    "### Number of inquiries (good impact)\n",
    "\n",
    "Default rate is much higher for people with more inquiries, this could be because they are looking for more loans and worsening their financial situation"
   ]
  },
  {
   "cell_type": "code",
   "execution_count": null,
   "metadata": {},
   "outputs": [],
   "source": [
    "# plot default rate by inq_last_6mths\n",
    "plt.figure(figsize=(20, 6))\n",
    "default_rate_inq_last_6mths = loans[['inq_last_6mths', 'default']].copy()\n",
    "\n",
    "print(loans['inq_last_6mths'].value_counts())\n",
    "\n",
    "# remove outliers for inq_last_6mths, for values greater than or equal to 4 as they are very few\n",
    "default_rate_inq_last_6mths = default_rate_inq_last_6mths[default_rate_inq_last_6mths['inq_last_6mths'] < 4]\n",
    "\n",
    "default_rate_inq_last_6mths = default_rate_inq_last_6mths.groupby(['inq_last_6mths']).agg({'default': 'mean'}).reset_index()\n",
    "\n",
    "bar_plot = sns.barplot(x='inq_last_6mths', y='default', data=default_rate_inq_last_6mths)\n",
    "\n",
    "# Get the minimum and maximum values from your data\n",
    "min_val = default_rate_inq_last_6mths['default'].min()\n",
    "max_val = default_rate_inq_last_6mths['default'].max()\n",
    "\n",
    "# Set the limits of y-axis to be slightly beyond the min and max\n",
    "bar_plot.set_ylim(min_val - 0.1 * (max_val - min_val), max_val + 0.1 * (max_val - min_val))\n",
    "\n",
    "plt.title('Default rate by inquiries in last 6 months')\n",
    "plt.xlabel('Inquiries in last 6 months')\n",
    "plt.ylabel('Default rate')\n",
    "plt.show()\n"
   ]
  },
  {
   "attachments": {},
   "cell_type": "markdown",
   "metadata": {},
   "source": [
    "### Delinquencies for past 2 years (good impact)\n",
    "\n",
    "Default rate increases with increase in delinquencies for past 2 years, meaning that people with more delinquencies are more likely to default on the loan as they have a history of not paying back their loans"
   ]
  },
  {
   "cell_type": "code",
   "execution_count": null,
   "metadata": {},
   "outputs": [],
   "source": [
    "# plot default rate by delinq_2yrs\n",
    "plt.figure(figsize=(20, 6))\n",
    "default_rate_delinq_2yrs = loans[['delinq_2yrs', 'default']].copy()\n",
    "\n",
    "print(default_rate_delinq_2yrs['delinq_2yrs'].value_counts())\n",
    "\n",
    "# for values greater than or equal to 3 as they are very few records, so remove them\n",
    "default_rate_delinq_2yrs = default_rate_delinq_2yrs[default_rate_delinq_2yrs['delinq_2yrs'] < 3]\n",
    "\n",
    "default_rate_delinq_2yrs = default_rate_delinq_2yrs.groupby(['delinq_2yrs']).agg({'default': 'mean'}).reset_index()\n",
    "\n",
    "bar_plot = sns.barplot(x='delinq_2yrs', y='default', data=default_rate_delinq_2yrs)\n",
    "\n",
    "# Get the minimum and maximum values from your data\n",
    "min_val = default_rate_delinq_2yrs['default'].min()\n",
    "max_val = default_rate_delinq_2yrs['default'].max()\n",
    "\n",
    "# Set the limits of y-axis to be slightly beyond the min and max\n",
    "bar_plot.set_ylim(min_val - 0.1 * (max_val - min_val), max_val + 0.1 * (max_val - min_val))\n",
    "\n",
    "plt.title('Default rate by delinquencies in last 2 years')\n",
    "plt.xlabel('Delinquencies in last 2 years')\n",
    "plt.ylabel('Default rate')\n",
    "plt.show()"
   ]
  },
  {
   "cell_type": "code",
   "execution_count": null,
   "metadata": {},
   "outputs": [],
   "source": [
    "loans.info()"
   ]
  },
  {
   "attachments": {},
   "cell_type": "markdown",
   "metadata": {},
   "source": [
    "# Correlation Matrix"
   ]
  },
  {
   "cell_type": "code",
   "execution_count": null,
   "metadata": {},
   "outputs": [],
   "source": [
    "#Finding correlation matric\n",
    "corr_matrix = loans[[ 'default', 'loan_amnt', 'funded_amnt', 'int_rate', 'open_acc', 'installment', 'annual_inc', 'grade_num', 'term_num', 'emp_length', 'delinq_2yrs', 'pub_rec_bankruptcies', 'revol_util',  'dti']].corr()\n",
    "plt.figure(figsize=(20,20))\n",
    "#plotting correlatioon matric on a heat map\n",
    "ax = sns.heatmap(corr_matrix, annot = True, cmap='Blues')\n",
    "top, bottom = ax.get_ylim()\n",
    "ax.set_ylim(top+0.5, bottom-0.5)\n",
    "plt.title(\"Correlation between Columns\")\n",
    "plt.show()"
   ]
  },
  {
   "attachments": {},
   "cell_type": "markdown",
   "metadata": {},
   "source": [
    "### Observations :\n",
    "- Default rate is negatively correlated with annual income of the borrower\n",
    "- Default rate is positively correlatd with interest rate, which means as the interest rate increases, default rate also increasee.\n",
    "- Loan amount is negatively correlated with pub_rec_bankruptcies.\n",
    "- Interest rate is negatively correlated to employement length\n",
    "- Interest rate increases with increase in grade number i.e., it increases while one's grade moves from A to G\n",
    "- Interest also increases with revol_util"
   ]
  }
 ],
 "metadata": {
  "kernelspec": {
   "display_name": "Python 3",
   "language": "python",
   "name": "python3"
  },
  "language_info": {
   "codemirror_mode": {
    "name": "ipython",
    "version": 3
   },
   "file_extension": ".py",
   "mimetype": "text/x-python",
   "name": "python",
   "nbconvert_exporter": "python",
   "pygments_lexer": "ipython3",
   "version": "3.10.9"
  },
  "orig_nbformat": 4
 },
 "nbformat": 4,
 "nbformat_minor": 2
}
